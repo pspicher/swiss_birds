{
 "cells": [
  {
   "cell_type": "markdown",
   "metadata": {},
   "source": [
    "# Capstone project by Paul Spicher\n",
    "\n",
    "# Image recognition algorithm for Swiss bird species"
   ]
  },
  {
   "cell_type": "markdown",
   "metadata": {},
   "source": [
    "## 1) The problem"
   ]
  },
  {
   "cell_type": "markdown",
   "metadata": {},
   "source": [
    "Switzerland has several hundred bird species. For an amateur, identifying them is not always easy. In addition to the similarity between certain species, it is above all the large number of possibilities that discourages emerging ornithological vocations. When trying to identify a species, the amateur can look for information in books. In this case, unless he is permanently walking around with a 500-page illustrated book, he can only get them once he gets home. In addition, this research is likely to be tedious. In addition to the visual appearance, other criteria such as location or observation period determine the species of the observed bird. However, the format of a book makes it difficult to cross-reference this information.\n",
    "\n",
    "Imagine that an amateur ornithologist has an application that allows him to instantly identify the bird he has just photographed with his smartphone. By cross-referencing the photo with the location and date of observation, the application could indicate the species to which the bird is likely to belong and a percentage of reliability. Such an application requires an algorithm to classify birds according to images and metadata. We would like to work on the development of this algorithm."
   ]
  },
  {
   "cell_type": "markdown",
   "metadata": {},
   "source": [
    "## 2) The data"
   ]
  },
  {
   "cell_type": "markdown",
   "metadata": {},
   "source": [
    "### 2.1) Data for analysis\n",
    "\n",
    "[eBird](https://ebird.org/home) is the North American equivalent of ornitho.ch: a platform associated with the Cornell Lab of Ornithology, on which amateur ornithologists can share their observations. Luckily, it turns out that some users of this platform are present in Switzerland and share images relating to Swiss species. It also happens that eBird makes the metadata available for free download. The downside is the number of observations: instead of thousands of observations per species with ornitho.ch, I have to make do with a maximum of 300 with eBird. However, by choosing the classes well and setting smaller goals, I think I can still do something interesting. Here is the list of the species with the largest number of images, which I have selected for the EDA : \n",
    "\n",
    "1. [Chroicocephalus ridibundus](https://ebird.org/species/bkhgul/CH)\n",
    "2. [Podiceps cristatus](https://ebird.org/species/grcgre1/CH)\n",
    "3. [Netta rufina](https://ebird.org/species/recpoc/CH)\n",
    "4. [Fulica atra](https://ebird.org/species/eurcoo/CH)\n",
    "5. [Cygnus olor](https://ebird.org/species/mutswa/CH)\n",
    "6. [Pyrrhocorax graculus](https://ebird.org/species/yebcho1/CH)\n",
    "7. [Mergus merganser](https://ebird.org/species/commer/CH)\n",
    "8. [Aythya fuligula](https://ebird.org/species/tufduc/CH)\n",
    "9. [Larus michahellis](https://ebird.org/species/yelgul1/CH)\n",
    "10. [Ardea cinerea](https://ebird.org/species/graher1/CH)\n",
    "11. [Buteo buteo](https://ebird.org/species/combuz1/CH)\n",
    "12. [Milvus milvus](https://ebird.org/species/redkit1/CH)\n",
    "13. [Turdus merula](https://ebird.org/species/eurbla/CH)\n",
    "14. [Aquila chrysaetos](https://ebird.org/species/goleag/CH)\n",
    "\n",
    "However, the quality of the metadata is better than with ornitho.ch. The dataset includes 56 variables ranging from date to specimen behavior and geographic coordinates. Most of these variables do not include enough observations to be useful, but the variables I intended to use with ornitho.ch are all present and do not contain Nan.\n",
    "\n",
    "The whole data is provided in the other notebooks I uploaded. Please note that I deleted images and cleared image outputs in order to make the repository lighter. You have to download them using the notebooks I provided."
   ]
  },
  {
   "cell_type": "markdown",
   "metadata": {},
   "source": [
    "### 2.2) Data for classification\n",
    "\n",
    "### First classification pool\n",
    "\n",
    "Given the small number of observations, we must be humble and avoid setting irrealistic goals. A classification task with 5 classes that are relatively homogenous within each class and relatively heterogenous between them is a reasonable challenge. Based on the results of exploratory metadata analysis and the visual assessment of the pictures, I have drawn the following conclusions.\n",
    "\n",
    "- Aquila chrisaetos and Turdus merula can be eliminated since we don't have enough observations. \n",
    "- Mergus merganser has a pronounced sexual dimorphism. In addition, the female looks pretty much like Podiceps cristatus. As a result, female Mergus merganser are highly likely to be misclassified as Podiceps cristatus. For this reason, I rule out Mergus merganser.\n",
    "- For Aythya fuligula, Cygnus olor, Fulica atra, Netta rufina, Podiceps cristatus, and to a lesser extent Larus michahellis and Chroicocephalus ridibundus, the background is mostly water. This may make the images very similar for the algorithm. Nevertheless, it can be reduced by cropping the images close to the bird.\n",
    "- The same is true with respect to the blue sky for Buteo buteo, Milvus milvus, Pyrrhocorax graculus and to a lesser extent Larus michahellis and Chroicocephalus ridibundus.\n",
    "- Species with a larger number of observations should be preferred ; we can always drop observations if necessary.\n",
    "- All species still have some images that are not appropriate for classification: immature specimens, very distant group of birds, etc. However, these images are few and it will be easy to spot them visually and drop them from the dataset.\n",
    "\n",
    "I selected the following species in a first classification pool:\n",
    "\n",
    "1. Podiceps cristatus\n",
    "2. Fulica atra\n",
    "3. Chroicocephalus ridibundus\n",
    "4. Cygnus olor\n",
    "5. Pyrrhocorax graculus"
   ]
  },
  {
   "cell_type": "markdown",
   "metadata": {},
   "source": [
    "### Second classification pool\n",
    "\n",
    "In a second phase, I would like to increase the difficult a little by introducing species that looks like other species. Indeed, I want to replace Chroicocephalus ridibundus by Netta Rufina which quite similar in colors to Podiceps cristatus, and replace Cygnus olor by Turdus merula which is very similar to Pyrrhocorax graculus and has the same dominant color as Fulica atra.\n",
    "\n",
    "In particular, it will be interesting to see if a can settle the algorithm in a way to give sufficiently weight to the metadata to separate similar looking species. Moreover, Netta rufina has a quite strong sexual dimorphism, but the male and female are likely to be observed in the same places at the same period.\n",
    "\n",
    "We also note that Turdus merula has far less observations than other classes. In would be interesting to see what is the effect on the classification and which strategies we can find to handle potential problems.\n",
    "\n",
    "The second classification contains the following species:\n",
    "\n",
    "1. Podiceps cristatus\n",
    "2. Fulica atra\n",
    "3. Netta rufina\n",
    "4. Turdus merula\n",
    "5. Pyrrhocorax graculus"
   ]
  }
 ],
 "metadata": {
  "kernelspec": {
   "display_name": "Python 3",
   "language": "python",
   "name": "python3"
  },
  "language_info": {
   "codemirror_mode": {
    "name": "ipython",
    "version": 3
   },
   "file_extension": ".py",
   "mimetype": "text/x-python",
   "name": "python",
   "nbconvert_exporter": "python",
   "pygments_lexer": "ipython3",
   "version": "3.7.4"
  }
 },
 "nbformat": 4,
 "nbformat_minor": 4
}
