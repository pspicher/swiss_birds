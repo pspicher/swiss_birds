{
 "cells": [
  {
   "cell_type": "markdown",
   "metadata": {},
   "source": [
    "# Import the data"
   ]
  },
  {
   "cell_type": "code",
   "execution_count": 1,
   "metadata": {},
   "outputs": [],
   "source": [
    "import pandas as pd\n",
    "from urllib import request\n",
    "from os import listdir\n",
    "from tqdm import tqdm"
   ]
  },
  {
   "cell_type": "markdown",
   "metadata": {},
   "source": [
    "## Aggregate metadata on species"
   ]
  },
  {
   "cell_type": "markdown",
   "metadata": {},
   "source": [
    "The metadata is available on eBird as a csv file for each species. We restrict here to observations made in Switzerland and that are associated with pictures. We selected the species that have the highest number of pictures."
   ]
  },
  {
   "cell_type": "code",
   "execution_count": 2,
   "metadata": {},
   "outputs": [],
   "source": [
    "#load the metadata for each species\n",
    "ac = pd.read_csv(\"data/metadata/ML_2020-02-01T13-00_Aquila_chrysaetos_Photo_CH.csv\")\n",
    "mm = pd.read_csv(\"data/metadata/ML_2020-02-01T17-27_Milvus_milvus_Photo_CH.csv\")\n",
    "pc = pd.read_csv(\"data/metadata/ML_2020-02-02T10-28_Podiceps_cristatus_Photo_CH.csv\")\n",
    "fa = pd.read_csv(\"data/metadata/ML_2020-02-02T10-31_Fulica_atra_Photo_CH.csv\")\n",
    "cr = pd.read_csv(\"data/metadata/ML_2020-02-02T10-32_Chroicocephalus_ridibundus_Photo_CH.csv\")\n",
    "nr = pd.read_csv(\"data/metadata/ML_2020-02-02T10-33_Netta_rufina_Photo_CH.csv\")\n",
    "co = pd.read_csv(\"data/metadata/ML_2020-02-02T10-34_Cygnus_olor_Photo_CH.csv\")\n",
    "pg = pd.read_csv(\"data/metadata/ML_2020-02-02T10-36_Pyrrhocorax_graculus_Photo_CH.csv\")\n",
    "lm = pd.read_csv(\"data/metadata/ML_2020-02-02T10-37_Larus_michahellis_Photo_CH.csv\")\n",
    "me = pd.read_csv(\"data/metadata/ML_2020-02-02T10-38_Mergus_merganser_Photo_CH.csv\")\n",
    "af = pd.read_csv(\"data/metadata/ML_2020-02-02T10-39_Aythya_fuligula_Photo_CH.csv\")\n",
    "bb = pd.read_csv(\"data/metadata/ML_2020-02-02T10-40_Buteo_buteo_Photo_CH.csv\")\n",
    "ar = pd.read_csv(\"data/metadata/ML_2020-02-02T10-42_Ardea_cinerea_Photo_CH.csv\")\n",
    "tm = pd.read_csv(\"data/metadata/ML_2020-02-04T07-21_Turdus_merula_Photo_CH.csv\")"
   ]
  },
  {
   "cell_type": "code",
   "execution_count": 3,
   "metadata": {},
   "outputs": [],
   "source": [
    "#concatenate dataframes\n",
    "data = pd.concat([ac,mm,pc,fa,cr,nr,co,pg,lm,me,af,bb,ar,tm], axis=0)"
   ]
  },
  {
   "cell_type": "markdown",
   "metadata": {},
   "source": [
    "We must keep in mind that once we have concatenated 14 dataframes, we now have 14 observations whose index $\\color{green}{\\text{name}}$ is 0. It means that if we run ```data.loc[0,:]```, we get the first observation of each original dataframe. However, if we run ```data.iloc[0,:]```, we get the first observation of the new concatenated dataframe. Since this feature may be useful, we refrain from reindexing."
   ]
  },
  {
   "cell_type": "code",
   "execution_count": 4,
   "metadata": {},
   "outputs": [
    {
     "data": {
      "text/plain": [
       "Index(['ML Catalog Number', 'Format', 'Scientific Name', 'Common Name',\n",
       "       'Background Species', 'Recordist', 'Date', 'Year', 'Month', 'Day',\n",
       "       'Time', 'Country', 'Country-State-County', 'State', 'County',\n",
       "       'Locality', 'Latitude', 'Longitude', 'Elevation (m)', 'Age/Sex',\n",
       "       'Behaviors', 'Playback', 'Collected', 'Specimen ID',\n",
       "       'Home Archive Catalog Number', 'Recorder', 'Microphone', 'Accessory',\n",
       "       'Partner Institution', 'eBird Checklist ID', 'Unconfirmed?',\n",
       "       'Air Temp(ºC)', 'Water Temp(ºC)', 'Comments', 'Observation Details',\n",
       "       'Class', 'Order', 'Family', 'Parent Species', 'eBird Species Code',\n",
       "       'Taxon Category', 'Taxonomic Sort', 'Recordist 2 Display Name',\n",
       "       'Recordist 2 Profile URL', 'Average Community Rating',\n",
       "       'Number of Ratings', 'Asset State', 'Asset Tags',\n",
       "       'Contributor Profile URL', 'Original Image Height',\n",
       "       'Original Image Width', 'Specimen Page URL', 'eBird Checklist URL',\n",
       "       'ebird Species URL', 'isInternalUser', 'report_as'],\n",
       "      dtype='object')"
      ]
     },
     "execution_count": 4,
     "metadata": {},
     "output_type": "execute_result"
    }
   ],
   "source": [
    "#get an overview on the variables\n",
    "data.columns"
   ]
  },
  {
   "cell_type": "code",
   "execution_count": 5,
   "metadata": {},
   "outputs": [
    {
     "data": {
      "text/plain": [
       "array(['Aquila chrysaetos', 'Milvus milvus', 'Milvus milvus milvus',\n",
       "       'Podiceps cristatus', 'Fulica atra', 'Chroicocephalus ridibundus',\n",
       "       'Netta rufina', 'Cygnus olor', 'Pyrrhocorax graculus',\n",
       "       'Larus michahellis', 'Larus michahellis michahellis',\n",
       "       'Mergus merganser', 'Mergus merganser merganser/orientalis',\n",
       "       'Aythya fuligula', 'Buteo buteo', 'Buteo buteo buteo',\n",
       "       'Ardea cinerea', 'Ardea cinerea cinerea/jouyi', 'Turdus merula'],\n",
       "      dtype=object)"
      ]
     },
     "execution_count": 5,
     "metadata": {},
     "output_type": "execute_result"
    }
   ],
   "source": [
    "#control that each species has an unique denomination under the variable 'Scientific Name'\n",
    "data[\"Scientific Name\"].unique()"
   ]
  },
  {
   "cell_type": "code",
   "execution_count": 6,
   "metadata": {},
   "outputs": [
    {
     "data": {
      "text/plain": [
       "array(['Aquila chrysaetos', 'Milvus milvus', 'Podiceps cristatus',\n",
       "       'Fulica atra', 'Chroicocephalus ridibundus', 'Netta rufina',\n",
       "       'Cygnus olor', 'Pyrrhocorax graculus', 'Larus michahellis',\n",
       "       'Mergus merganser', 'Aythya fuligula', 'Buteo buteo',\n",
       "       'Ardea cinerea', 'Turdus merula'], dtype=object)"
      ]
     },
     "execution_count": 6,
     "metadata": {},
     "output_type": "execute_result"
    }
   ],
   "source": [
    "#unify scientific names\n",
    "data[\"Scientific Name\"] = data[\"Scientific Name\"].str.replace('Milvus milvus milvus', 'Milvus milvus')\n",
    "data[\"Scientific Name\"] = data[\"Scientific Name\"].str.replace('Larus michahellis michahellis', 'Larus michahellis')\n",
    "data[\"Scientific Name\"] = data[\"Scientific Name\"].str.replace('Mergus merganser merganser/orientalis', 'Mergus merganser')\n",
    "data[\"Scientific Name\"] = data[\"Scientific Name\"].str.replace('Buteo buteo buteo', 'Buteo buteo')\n",
    "data[\"Scientific Name\"] = data[\"Scientific Name\"].str.replace('Ardea cinerea cinerea/jouyi', 'Ardea cinerea')\n",
    "data[\"Scientific Name\"].unique()"
   ]
  },
  {
   "cell_type": "code",
   "execution_count": 7,
   "metadata": {},
   "outputs": [
    {
     "data": {
      "text/plain": [
       "array(['data/images/aquila_chrysaetos/original/',\n",
       "       'data/images/milvus_milvus/original/',\n",
       "       'data/images/podiceps_cristatus/original/',\n",
       "       'data/images/fulica_atra/original/',\n",
       "       'data/images/chroicocephalus_ridibundus/original/',\n",
       "       'data/images/netta_rufina/original/',\n",
       "       'data/images/cygnus_olor/original/',\n",
       "       'data/images/pyrrhocorax_graculus/original/',\n",
       "       'data/images/larus_michahellis/original/',\n",
       "       'data/images/mergus_merganser/original/',\n",
       "       'data/images/aythya_fuligula/original/',\n",
       "       'data/images/buteo_buteo/original/',\n",
       "       'data/images/ardea_cinerea/original/',\n",
       "       'data/images/turdus_merula/original/'], dtype=object)"
      ]
     },
     "execution_count": 7,
     "metadata": {},
     "output_type": "execute_result"
    }
   ],
   "source": [
    "#create an additional variable with the name of the folder in which the images are going to be stored\n",
    "data[\"storage\"] = data[\"Scientific Name\"].str.lower()\n",
    "data[\"storage\"] = data[\"storage\"].str.replace(\" \", \"_\")\n",
    "data[\"storage\"] = \"data/images/\"+data[\"storage\"]+\"/original/\"\n",
    "data[\"storage\"].unique()"
   ]
  },
  {
   "cell_type": "code",
   "execution_count": 8,
   "metadata": {},
   "outputs": [
    {
     "data": {
      "text/plain": [
       "'198885451'"
      ]
     },
     "execution_count": 8,
     "metadata": {},
     "output_type": "execute_result"
    }
   ],
   "source": [
    "#extract Macaulay Library id of a particular observation\n",
    "ml = data.iloc[0,0]\n",
    "ml = str(ml)\n",
    "ml"
   ]
  },
  {
   "cell_type": "markdown",
   "metadata": {},
   "source": [
    "## Find the path to the images\n",
    "\n",
    "We must be able to use the Macaulay Library Catalog number to retrieve the images associated with the metadata. If we search for the ML number '198885451' on the Macaulay Library website, we reach the following page : https://macaulaylibrary.org/asset/198885451\n",
    "\n",
    "However, this page contains several images, and the image of interest is not necessarily named \"198885451.jpg\". It would be interesting to directly reach the page containing only the image labelled ML198885451. Inspecting the page, we can find the link we are searching for :\n",
    "\n",
    "![inspecting the page](data/other/inspecting_Macaulay_Library.png)\n",
    "\n",
    "This link is composed of a fixed path followed by the ML catalog number. We can use it to download the images."
   ]
  },
  {
   "cell_type": "code",
   "execution_count": 9,
   "metadata": {},
   "outputs": [],
   "source": [
    "#set the fixed part of the link\n",
    "link = \"https://download.ams.birds.cornell.edu/api/v1/asset/\""
   ]
  },
  {
   "cell_type": "code",
   "execution_count": 10,
   "metadata": {},
   "outputs": [
    {
     "data": {
      "text/plain": [
       "'data/images/aquila_chrysaetos/original/'"
      ]
     },
     "execution_count": 10,
     "metadata": {},
     "output_type": "execute_result"
    }
   ],
   "source": [
    "#get the path to the appropriate folder for a particular observation\n",
    "data.iloc[0,-1]"
   ]
  },
  {
   "cell_type": "code",
   "execution_count": 11,
   "metadata": {},
   "outputs": [
    {
     "data": {
      "text/plain": [
       "('data/images/aquila_chrysaetos/original/198885451.jpg',\n",
       " <http.client.HTTPMessage at 0x108bc4400>)"
      ]
     },
     "execution_count": 11,
     "metadata": {},
     "output_type": "execute_result"
    }
   ],
   "source": [
    "#donwload an image with a particular ML catalog number and store it in a folder dedicated to the species\n",
    "request.urlretrieve(link+ml, data.iloc[0,-1]+ml+\".jpg\")"
   ]
  },
  {
   "cell_type": "markdown",
   "metadata": {},
   "source": [
    "## Download all images\n",
    "\n",
    "Run only once !"
   ]
  },
  {
   "cell_type": "markdown",
   "metadata": {},
   "source": [
    "### Very important : some links may have been deleted in the database"
   ]
  },
  {
   "cell_type": "code",
   "execution_count": 12,
   "metadata": {},
   "outputs": [
    {
     "name": "stderr",
     "output_type": "stream",
     "text": [
      "100%|██████████| 3347/3347 [39:53<00:00,  1.40it/s]"
     ]
    },
    {
     "name": "stdout",
     "output_type": "stream",
     "text": [
      "Time:  2393.4517323109994\n",
      "Number of broken links : 9\n",
      "Original number of observations : 3347\n",
      "Updated number of observations : 3338\n"
     ]
    },
    {
     "name": "stderr",
     "output_type": "stream",
     "text": [
      "\n"
     ]
    }
   ],
   "source": [
    "#set the fixed part of the link\n",
    "link = \"https://download.ams.birds.cornell.edu/api/v1/asset/\"\n",
    "\n",
    "#create list to collect broken links\n",
    "broken_links = []\n",
    "old = len(data)\n",
    "\n",
    "#download each image and store them in the apporiate folder\n",
    "start = timeit.default_timer()\n",
    "for i in tqdm(range(data.shape[0])): #for the number of rows in the dataframe\n",
    "    try:\n",
    "        ml = str(data.iloc[i,0]) #get the ML Catalog Number\n",
    "        path = data.iloc[i,-1] #set the path to the appropiate folder\n",
    "        request.urlretrieve(link+ml, path+ml+\".jpg\") #download the image and store it in the folder\n",
    "    except:\n",
    "        broken_links.append(data.iloc[i,0])\n",
    "        pass\n",
    "    \n",
    "stop = timeit.default_timer()\n",
    "\n",
    "#drop observations with broken links\n",
    "data = data[~data[\"ML Catalog Number\"].isin(broken_links)]\n",
    "\n",
    "print('Time: ', stop - start) \n",
    "print(\"Number of broken links : {}\".format(len(broken_links)))\n",
    "print(\"Original number of observations : {}\".format(old))\n",
    "print(\"Updated number of observations : {}\".format(len(data)))"
   ]
  },
  {
   "cell_type": "markdown",
   "metadata": {},
   "source": [
    "## Check exhaustivity\n",
    "\n",
    "We would like to check if all image have been imported correctly."
   ]
  },
  {
   "cell_type": "code",
   "execution_count": 12,
   "metadata": {},
   "outputs": [
    {
     "data": {
      "text/plain": [
       "storage\n",
       "data/images/aquila_chrysaetos/original/              95\n",
       "data/images/ardea_cinerea/original/                 201\n",
       "data/images/aythya_fuligula/original/               219\n",
       "data/images/buteo_buteo/original/                   214\n",
       "data/images/chroicocephalus_ridibundus/original/    318\n",
       "data/images/cygnus_olor/original/                   288\n",
       "data/images/fulica_atra/original/                   322\n",
       "data/images/larus_michahellis/original/             241\n",
       "data/images/mergus_merganser/original/              225\n",
       "data/images/milvus_milvus/original/                 211\n",
       "data/images/netta_rufina/original/                  303\n",
       "data/images/podiceps_cristatus/original/            340\n",
       "data/images/pyrrhocorax_graculus/original/          255\n",
       "data/images/turdus_merula/original/                 115\n",
       "Name: ML Catalog Number, dtype: int64"
      ]
     },
     "execution_count": 12,
     "metadata": {},
     "output_type": "execute_result"
    }
   ],
   "source": [
    "#get the number of observations present in the dataframe for each folder\n",
    "data.groupby(by=\"storage\")[\"ML Catalog Number\"].count()"
   ]
  },
  {
   "cell_type": "code",
   "execution_count": 13,
   "metadata": {},
   "outputs": [
    {
     "name": "stdout",
     "output_type": "stream",
     "text": [
      "data/images/aquila_chrysaetos/original/ 96\n",
      "data/images/milvus_milvus/original/ 212\n",
      "data/images/podiceps_cristatus/original/ 340\n",
      "data/images/fulica_atra/original/ 323\n",
      "data/images/chroicocephalus_ridibundus/original/ 318\n",
      "data/images/netta_rufina/original/ 303\n",
      "data/images/cygnus_olor/original/ 288\n",
      "data/images/pyrrhocorax_graculus/original/ 256\n",
      "data/images/larus_michahellis/original/ 241\n",
      "data/images/mergus_merganser/original/ 225\n",
      "data/images/aythya_fuligula/original/ 219\n",
      "data/images/buteo_buteo/original/ 214\n",
      "data/images/ardea_cinerea/original/ 201\n",
      "data/images/turdus_merula/original/ 115\n"
     ]
    }
   ],
   "source": [
    "#get the number of observations actually present in each folder\n",
    "for folder in data[\"storage\"].unique(): #for each unique folder path\n",
    "    print(folder, len(listdir(folder))) #print the folder path name and the number of files in the folder"
   ]
  },
  {
   "cell_type": "markdown",
   "metadata": {},
   "source": [
    "The number of files got with ```listdir``` happens to be different for some folders. However, it doesn't mean that the actual number of files is not the same. Indeed, ```listdir``` returns a list that sometimes contains some ```'.ipynb_checkpoints'``` entries.\n",
    "\n",
    "In order to check if all files have been correctly downloaded, we will aggregate lsidir entries of all folder and delete the ```'.ipynb_checkpoints'```. Then, we will extract the ML Catalog Numbers from the files' names and compare it with the ones of the observations in the metadata dataframe."
   ]
  },
  {
   "cell_type": "code",
   "execution_count": 14,
   "metadata": {},
   "outputs": [],
   "source": [
    "folder_images = []\n",
    "for folder in data[\"storage\"].unique(): #for each unique folder path\n",
    "    folder_images.append(listdir(folder)) #append the listdir output of each folder to the list\n",
    "    \n",
    "#the result is a hierarchical list"
   ]
  },
  {
   "cell_type": "code",
   "execution_count": 15,
   "metadata": {},
   "outputs": [],
   "source": [
    "#turn the list to a dataframe and flatten the hierarchy\n",
    "folder_images = pd.DataFrame(folder_images).stack()"
   ]
  },
  {
   "cell_type": "code",
   "execution_count": 16,
   "metadata": {},
   "outputs": [],
   "source": [
    "#keep only .jpg files in the Series\n",
    "folder_images = folder_images[folder_images.str.contains(\".jpg\")]\n",
    "\n",
    "#delete .jpg suffix to get ML Catalog Number\n",
    "folder_images = folder_images.str.replace(\".jpg\", \"\")"
   ]
  },
  {
   "cell_type": "code",
   "execution_count": 17,
   "metadata": {},
   "outputs": [],
   "source": [
    "#turn ML numbers from folders into a set\n",
    "folder_images = set(folder_images.astype(int))\n",
    "\n",
    "#turn ML numbers of metadata into a set\n",
    "metadata_images = set(data[\"ML Catalog Number\"])"
   ]
  },
  {
   "cell_type": "code",
   "execution_count": 18,
   "metadata": {},
   "outputs": [
    {
     "data": {
      "text/plain": [
       "set()"
      ]
     },
     "execution_count": 18,
     "metadata": {},
     "output_type": "execute_result"
    }
   ],
   "source": [
    "#check if all observations present in the metadata are also present in folders\n",
    "metadata_images.difference(folder_images)"
   ]
  },
  {
   "cell_type": "code",
   "execution_count": 19,
   "metadata": {},
   "outputs": [
    {
     "data": {
      "text/plain": [
       "set()"
      ]
     },
     "execution_count": 19,
     "metadata": {},
     "output_type": "execute_result"
    }
   ],
   "source": [
    "#check if all observations present in folders are also present in the metadata\n",
    "folder_images.difference(metadata_images)"
   ]
  },
  {
   "cell_type": "markdown",
   "metadata": {},
   "source": [
    "As expected $(A\\setminus B = \\emptyset) \\land (B\\setminus A = \\emptyset) \\Leftrightarrow A = B$. The two sets are identic, which mean that all images have been downloaded correctly."
   ]
  },
  {
   "cell_type": "markdown",
   "metadata": {},
   "source": [
    "## Store aggregated metadata\n",
    "\n",
    "Run only once !"
   ]
  },
  {
   "cell_type": "code",
   "execution_count": 20,
   "metadata": {},
   "outputs": [
    {
     "data": {
      "text/plain": [
       "'data/images/aquila_chrysaetos/original/198885451.jpg'"
      ]
     },
     "execution_count": 20,
     "metadata": {},
     "output_type": "execute_result"
    }
   ],
   "source": [
    "#add ML number to the \"storage\" variable\n",
    "data[\"storage\"] = data[\"storage\"].str.cat(data[\"ML Catalog Number\"].astype(str))\n",
    "\n",
    "#add .jpg suffix to the \"storage\" variable\n",
    "data[\"storage\"] = data[\"storage\"]+\".jpg\"\n",
    "\n",
    "data.iloc[0,:][\"storage\"]"
   ]
  },
  {
   "cell_type": "code",
   "execution_count": 21,
   "metadata": {},
   "outputs": [],
   "source": [
    "#write csv file\n",
    "data.to_csv(\"data/metadata/aggregate.csv\")"
   ]
  }
 ],
 "metadata": {
  "kernelspec": {
   "display_name": "Python 3",
   "language": "python",
   "name": "python3"
  },
  "language_info": {
   "codemirror_mode": {
    "name": "ipython",
    "version": 3
   },
   "file_extension": ".py",
   "mimetype": "text/x-python",
   "name": "python",
   "nbconvert_exporter": "python",
   "pygments_lexer": "ipython3",
   "version": "3.6.9"
  }
 },
 "nbformat": 4,
 "nbformat_minor": 4
}
