{
 "cells": [
  {
   "cell_type": "markdown",
   "metadata": {},
   "source": [
    "# Smartcrop\n",
    "\n",
    "Images of birds provided by eBirds are in various formats. To extract features of good quality, we need a standardised squared format with the bird contained in it. As the bird can potentially appear in any place of the image, a automated, centered cropping is rather bad solution. This script is used to crop a squared subset of the image containing the bird. It is based on a function available on this Github repository. It achieves good results for the most of the images, but can fail in rare cases, i.g. when the bird appears quite distant and on a complex background. We consider that this performance is sufficient for our needs."
   ]
  },
  {
   "cell_type": "markdown",
   "metadata": {},
   "source": [
    "# Don't run all cells !\n",
    "\n",
    "## First package : https://github.com/smartcrop/smartcrop.py\n",
    "\n",
    "This first package gives best pixels coordinates to crop a picture keeping only the interesting features. For each image, it proposes 3 best crops. I tried to adapt it to directly crop and store the pictures. However, the results are not that good and I found an other packages that achievied better cropping."
   ]
  },
  {
   "cell_type": "code",
   "execution_count": null,
   "metadata": {},
   "outputs": [],
   "source": [
    "#import smartcrop\n",
    "#from PIL import Image\n",
    "#import pandas as pd"
   ]
  },
  {
   "cell_type": "code",
   "execution_count": null,
   "metadata": {},
   "outputs": [],
   "source": [
    "#Image.open(\"nocrop/nocrop003.jpg\")"
   ]
  },
  {
   "cell_type": "code",
   "execution_count": null,
   "metadata": {},
   "outputs": [],
   "source": [
    "#image = Image.open(\"nocrop/nocrop003.jpg\")\n",
    "#\n",
    "#sc = smartcrop.SmartCrop()\n",
    "#result = sc.crop(image, 500, 500)\n",
    "#result"
   ]
  },
  {
   "cell_type": "code",
   "execution_count": null,
   "metadata": {},
   "outputs": [],
   "source": [
    "#x1 = result[\"crops\"][0][\"x\"]\n",
    "#y1 = result[\"crops\"][0][\"y\"]\n",
    "#x2 = x1+result[\"crops\"][0][\"width\"]\n",
    "#y2 = y1+result[\"crops\"][0][\"height\"]"
   ]
  },
  {
   "cell_type": "code",
   "execution_count": null,
   "metadata": {},
   "outputs": [],
   "source": [
    "#cropped = image.crop((x1,y1,x2,y2))\n",
    "#cropped"
   ]
  },
  {
   "cell_type": "code",
   "execution_count": null,
   "metadata": {},
   "outputs": [],
   "source": [
    "#cropped.save(\"data/other/cormoran.jpg\")"
   ]
  },
  {
   "cell_type": "code",
   "execution_count": null,
   "metadata": {},
   "outputs": [],
   "source": [
    "#def square_crop(path_to_image, width, heigth):\n",
    "#    image = Image.open(path_to_image)\n",
    "#    sc = smartcrop.SmartCrop()\n",
    "#    coord = sc.crop(image, width, heigth)\n",
    "#    x1 = coord[\"top_crop\"][\"x\"]\n",
    "#    y1 = coord[\"top_crop\"][\"y\"]\n",
    "#    x2 = x1+coord[\"top_crop\"][\"width\"]\n",
    "#    y2 = y1+coord[\"top_crop\"][\"height\"]\n",
    "#    cropped = image.crop((x1,y1,x2,y2))\n",
    "#    return cropped\n",
    "#\n",
    "##smartcrop doesn't resize the images to the indicated width and height\n",
    "##add resize after having checked for the format of each image in metadata"
   ]
  },
  {
   "cell_type": "code",
   "execution_count": null,
   "metadata": {},
   "outputs": [],
   "source": [
    "#square_crop(\"nocrop/nocrop007.jpg\",300,300)"
   ]
  },
  {
   "cell_type": "code",
   "execution_count": null,
   "metadata": {},
   "outputs": [],
   "source": [
    "#data = pd.read_csv(\"data/metadata/selection.csv\", index_col=0)"
   ]
  },
  {
   "cell_type": "code",
   "execution_count": null,
   "metadata": {},
   "outputs": [],
   "source": [
    "##add \"crop\" variable to the dataframe, with the path to the cropped images\n",
    "#data[\"crop_storage\"] = data[\"storage\"].str.replace(\"original\", \"cropped\")"
   ]
  },
  {
   "cell_type": "code",
   "execution_count": null,
   "metadata": {},
   "outputs": [],
   "source": [
    "##crop images as a test\n",
    "#\n",
    "#fa = data[data[\"Scientific Name\"]==\"Chroicocephalus ridibundus\"]\n",
    "#\n",
    "#for i in range(len(fa)): # for the number of  observations\n",
    "#    file = fa.iloc[i,:][\"storage\"]\n",
    "#    cropped = square_crop(file,300,300)\n",
    "#    output_file = fa.iloc[i,:][\"crop_storage\"]\n",
    "#    cropped.save(output_file)"
   ]
  },
  {
   "cell_type": "markdown",
   "metadata": {},
   "source": [
    "## Second package (https://github.com/epixelic/python-smart-crop, require OpenCV): "
   ]
  },
  {
   "cell_type": "code",
   "execution_count": null,
   "metadata": {},
   "outputs": [],
   "source": [
    "import smartcrop\n",
    "import pandas as pd\n",
    "from tqdm import tqdm"
   ]
  },
  {
   "cell_type": "code",
   "execution_count": null,
   "metadata": {},
   "outputs": [],
   "source": [
    "#load data\n",
    "data = pd.read_csv(\"data/metadata/selection.csv\")"
   ]
  },
  {
   "cell_type": "code",
   "execution_count": null,
   "metadata": {},
   "outputs": [],
   "source": [
    "#define new variable with path for the cropped images \n",
    "data[\"crop_storage\"] = data.storage.str.replace(\"original\",\"cropped\")"
   ]
  },
  {
   "cell_type": "code",
   "execution_count": null,
   "metadata": {},
   "outputs": [],
   "source": [
    "#crop images \"Chroicocephalus ridibundus\" as a test\n",
    "\n",
    "fa = data[data[\"Scientific Name\"]==\"Chroicocephalus ridibundus\"]\n",
    "\n",
    "for i in range(len(fa)): # for the number of  observations\n",
    "    file = fa.iloc[i,:][\"storage\"]\n",
    "    crop_file = fa.iloc[i,:][\"crop_storage\"]\n",
    "    cropped = smartcrop.smart_crop(file, 300, 300, crop_file, True)"
   ]
  },
  {
   "cell_type": "code",
   "execution_count": null,
   "metadata": {},
   "outputs": [],
   "source": [
    "#for each species\n",
    "for s in data[\"Scientific Name\"].unique():\n",
    "    \n",
    "    #define a dataframe with the observation of the spectis\n",
    "    fa = data[data[\"Scientific Name\"]==s]\n",
    "\n",
    "    for i in tqdm(range(len(fa))): # for the number of  observations in the dataframe\n",
    "        file = fa.iloc[i,:][\"storage\"] #get the input path\n",
    "        crop_file = fa.iloc[i,:][\"crop_storage\"] #get the output path\n",
    "        cropped = smartcrop.smart_crop(file, 224, 224, crop_file, True) #crop the picture and store the result"
   ]
  },
  {
   "cell_type": "markdown",
   "metadata": {},
   "source": [
    "## Print cropped images"
   ]
  },
  {
   "cell_type": "code",
   "execution_count": null,
   "metadata": {},
   "outputs": [],
   "source": [
    "import math\n",
    "import matplotlib.pyplot as plt\n",
    "from PIL import Image\n",
    "import numpy as np"
   ]
  },
  {
   "cell_type": "code",
   "execution_count": null,
   "metadata": {},
   "outputs": [],
   "source": [
    "#load data\n",
    "data = pd.read_csv(\"data/metadata/selection.csv\", index_col=0)\n",
    "\n",
    "#define new variable with path for the cropped images \n",
    "data[\"crop_storage\"] = data.storage.str.replace(\"original\",\"cropped\")"
   ]
  },
  {
   "cell_type": "code",
   "execution_count": null,
   "metadata": {},
   "outputs": [],
   "source": [
    "#print cropped images\n",
    "#create dataframe for 'Podiceps cristatus'\n",
    "pc = data[data[\"Scientific Name\"]=='Podiceps cristatus']\n",
    "\n",
    "#get the number of observations\n",
    "n = len(pc)\n",
    "\n",
    "#plot the observations\n",
    "fig,axes = plt.subplots(nrows=math.ceil(n/3), ncols=3)\n",
    "fig.set_figwidth(20)\n",
    "fig.set_figheight(540)\n",
    "\n",
    "for i in tqdm(range(n)):\n",
    "    pil_img = Image.open(pc.iloc[i,:][\"crop_storage\"]) #for each observation, get the storage path and open a pillow image\n",
    "    np_img = np.array(pil_img) #turn the image into an array\n",
    "    axes.ravel()[i].imshow(np_img) #display the image at the right position in the grid\n",
    "    ML = pc.iloc[i,:][\"ML Catalog Number\"] #get the ML number of the observation\n",
    "    rating = pc.iloc[i,:][\"Average Community Rating\"] #get the average rating\n",
    "    axes.ravel()[i].set_title(\"ML : {} -- rating : {} -- index : {}\".format(ML,rating,i)) #print the ML number and the index in species dataframe and dimensions\n",
    "\n",
    "plt.tight_layout()\n",
    "\n",
    "plt.savefig(\"data/visual_assessment/podiceps_cristatus_crop.jpg\") #save the figure as a jpg file"
   ]
  },
  {
   "cell_type": "code",
   "execution_count": null,
   "metadata": {},
   "outputs": [],
   "source": [
    "#print cropped images\n",
    "\n",
    "#create dataframe for 'Fulica atra'\n",
    "fa = data[data[\"Scientific Name\"]=='Fulica atra']\n",
    "\n",
    "#get the number of observations\n",
    "n = len(fa)\n",
    "\n",
    "#plot the observations\n",
    "fig,axes = plt.subplots(nrows=math.ceil(n/3), ncols=3)\n",
    "fig.set_figwidth(20)\n",
    "fig.set_figheight(500)\n",
    "\n",
    "for i in tqdm(range(n)):\n",
    "    pil_img = Image.open(fa.iloc[i,:][\"crop_storage\"]) #for each observation, get the storage path and open a pillow image\n",
    "    np_img = np.array(pil_img) #turn the image into an array\n",
    "    axes.ravel()[i].imshow(np_img) #display the image at the right position in the grid\n",
    "    ML = fa.iloc[i,:][\"ML Catalog Number\"] #get the ML number of the observation\n",
    "    rating = fa.iloc[i,:][\"Average Community Rating\"] #get the average rating\n",
    "    axes.ravel()[i].set_title(\"ML : {} -- rating : {} -- index : {}\".format(ML,rating,i)) #print the ML number and the index in species dataframe and dimensions\n",
    "\n",
    "plt.tight_layout()\n",
    "\n",
    "plt.savefig(\"data/visual_assessment/fulica_atra_crop.jpg\") #save the figure as a jpg file"
   ]
  },
  {
   "cell_type": "code",
   "execution_count": null,
   "metadata": {},
   "outputs": [],
   "source": [
    "#print the cropped images\n",
    "\n",
    "#create dataframe for 'Chroicocephalus ridibundus'\n",
    "cr = data[data[\"Scientific Name\"]=='Chroicocephalus ridibundus']\n",
    "\n",
    "#get the number of observations\n",
    "n = len(cr)\n",
    "\n",
    "#plot the observations\n",
    "fig,axes = plt.subplots(nrows=math.ceil(n/3), ncols=3)\n",
    "fig.set_figwidth(20)\n",
    "fig.set_figheight(540)\n",
    "\n",
    "for i in tqdm(range(n)):\n",
    "    pil_img = Image.open(cr.iloc[i,:][\"crop_storage\"]) #for each observation, get the storage path and open a pillow image\n",
    "    np_img = np.array(pil_img) #turn the image into an array\n",
    "    axes.ravel()[i].imshow(np_img) #display the image at the right position in the grid\n",
    "    ML = cr.iloc[i,:][\"ML Catalog Number\"] #get the ML number of the observation\n",
    "    rating = cr.iloc[i,:][\"Average Community Rating\"] #get the average rating\n",
    "    axes.ravel()[i].set_title(\"ML : {} -- rating : {} -- index : {}\".format(ML,rating,i)) #print the ML number and the index in species dataframe and dimensions\n",
    "\n",
    "plt.tight_layout()    \n",
    "    \n",
    "plt.savefig(\"data/visual_assessment/chroicocephalus_ridibundus_crop.jpg\") #save the figure as a jpg file"
   ]
  },
  {
   "cell_type": "code",
   "execution_count": null,
   "metadata": {},
   "outputs": [],
   "source": [
    "#print cropped images\n",
    "\n",
    "#create dataframe for 'Cygnus olor'\n",
    "co = data[data[\"Scientific Name\"]=='Cygnus olor']\n",
    "\n",
    "#get the number of observations\n",
    "n = len(co)\n",
    "\n",
    "#plot the observations\n",
    "fig,axes = plt.subplots(nrows=math.ceil(n/3), ncols=3)\n",
    "fig.set_figwidth(20)\n",
    "fig.set_figheight(420)\n",
    "\n",
    "for i in tqdm(range(n)):\n",
    "    pil_img = Image.open(co.iloc[i,:][\"crop_storage\"]) #for each observation, get the storage path and open a pillow image\n",
    "    np_img = np.array(pil_img) #turn the image into an array\n",
    "    axes.ravel()[i].imshow(np_img) #display the image at the right position in the grid\n",
    "    ML = co.iloc[i,:][\"ML Catalog Number\"] #get the ML number of the observation\n",
    "    rating = co.iloc[i,:][\"Average Community Rating\"] #get the average rating\n",
    "    axes.ravel()[i].set_title(\"ML : {} -- rating : {} -- index : {}\".format(ML,rating,i)) #print the ML number and the index in species dataframe and dimensions\n",
    "\n",
    "plt.tight_layout()    \n",
    "    \n",
    "plt.savefig(\"data/visual_assessment/cygnus_olor_crop.jpg\") #save the figure as a jpg file"
   ]
  },
  {
   "cell_type": "code",
   "execution_count": null,
   "metadata": {},
   "outputs": [],
   "source": [
    "#print cropped images\n",
    "\n",
    "#create dataframe for 'Pyrrhocorax graculus'\n",
    "pg = data[data[\"Scientific Name\"]=='Pyrrhocorax graculus']\n",
    "\n",
    "#get the number of observations\n",
    "n = len(pg)\n",
    "\n",
    "#plot the observations\n",
    "fig,axes = plt.subplots(nrows=math.ceil(n/3), ncols=3)\n",
    "fig.set_figwidth(20)\n",
    "fig.set_figheight(380)\n",
    "\n",
    "for i in tqdm(range(n)):\n",
    "    pil_img = Image.open(pg.iloc[i,:][\"crop_storage\"]) #for each observation, get the storage path and open a pillow image\n",
    "    np_img = np.array(pil_img) #turn the image into an array\n",
    "    axes.ravel()[i].imshow(np_img) #display the image at the right position in the grid\n",
    "    ML = pg.iloc[i,:][\"ML Catalog Number\"] #get the ML number of the observation\n",
    "    rating = pg.iloc[i,:][\"Average Community Rating\"] #get the average rating\n",
    "    axes.ravel()[i].set_title(\"ML : {} -- rating : {} -- index : {}\".format(ML,rating,i)) #print the ML number and the index in species dataframe and dimensions\n",
    "\n",
    "plt.tight_layout()    \n",
    "    \n",
    "plt.savefig(\"data/visual_assessment/pyrrhocorax_graculus_crop.jpg\") #save the figure as a jpg file"
   ]
  },
  {
   "cell_type": "code",
   "execution_count": null,
   "metadata": {},
   "outputs": [],
   "source": [
    "#print cropped images\n",
    "\n",
    "#create dataframe for 'Netta rufina'\n",
    "nr = data[data[\"Scientific Name\"]=='Netta rufina']\n",
    "\n",
    "#get the number of observations\n",
    "n = len(nr)\n",
    "\n",
    "#plot the observations\n",
    "fig,axes = plt.subplots(nrows=math.ceil(n/3), ncols=3)\n",
    "fig.set_figwidth(20)\n",
    "fig.set_figheight(500)\n",
    "\n",
    "for i in tqdm(range(n)):\n",
    "    pil_img = Image.open(nr.iloc[i,:][\"crop_storage\"]) #for each observation, get the storage path and open a pillow image\n",
    "    np_img = np.array(pil_img) #turn the image into an array\n",
    "    axes.ravel()[i].imshow(np_img) #display the image at the right position in the grid\n",
    "    ML = nr.iloc[i,:][\"ML Catalog Number\"] #get the ML number of the observation\n",
    "    rating = nr.iloc[i,:][\"Average Community Rating\"] #get the average rating\n",
    "    axes.ravel()[i].set_title(\"ML : {} -- rating : {} -- index : {}\".format(ML,rating,i)) #print the ML number and the index in species dataframe and dimensions\n",
    "\n",
    "plt.tight_layout()    \n",
    "    \n",
    "plt.savefig(\"data/visual_assessment/netta_rufina_crop.jpg\") #save the figure as a jpg file"
   ]
  },
  {
   "cell_type": "code",
   "execution_count": null,
   "metadata": {},
   "outputs": [],
   "source": [
    "#print cropped images\n",
    "\n",
    "#create dataframe for 'Turdus merula'\n",
    "tm = data[data[\"Scientific Name\"]=='Turdus merula']\n",
    "\n",
    "#get the number of observations\n",
    "n = len(tm)\n",
    "\n",
    "#plot the observations\n",
    "fig,axes = plt.subplots(nrows=math.ceil(n/3), ncols=3)\n",
    "fig.set_figwidth(20)\n",
    "fig.set_figheight(150)\n",
    "\n",
    "for i in tqdm(range(n)):\n",
    "    pil_img = Image.open(tm.iloc[i,:][\"crop_storage\"]) #for each observation, get the storage path and open a pillow image\n",
    "    np_img = np.array(pil_img) #turn the image into an array\n",
    "    axes.ravel()[i].imshow(np_img) #display the image at the right position in the grid\n",
    "    ML = tm.iloc[i,:][\"ML Catalog Number\"] #get the ML number of the observation\n",
    "    rating = tm.iloc[i,:][\"Average Community Rating\"] #get the average rating\n",
    "    axes.ravel()[i].set_title(\"ML : {} -- rating : {} -- index : {}\".format(ML,rating,i)) #print the ML number and the index in species dataframe and dimensions\n",
    "\n",
    "plt.tight_layout()    \n",
    "    \n",
    "plt.savefig(\"data/visual_assessment/turdus_merula_crop.jpg\") #save the figure as a jpg file"
   ]
  }
 ],
 "metadata": {
  "kernelspec": {
   "display_name": "Python 3",
   "language": "python",
   "name": "python3"
  },
  "language_info": {
   "codemirror_mode": {
    "name": "ipython",
    "version": 3
   },
   "file_extension": ".py",
   "mimetype": "text/x-python",
   "name": "python",
   "nbconvert_exporter": "python",
   "pygments_lexer": "ipython3",
   "version": "3.6.9"
  }
 },
 "nbformat": 4,
 "nbformat_minor": 4
}
