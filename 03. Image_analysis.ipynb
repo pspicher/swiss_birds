{
 "cells": [
  {
   "cell_type": "markdown",
   "metadata": {},
   "source": [
    "# Image Analysis\n",
    "\n",
    "## Please don't run all cells !"
   ]
  },
  {
   "cell_type": "code",
   "execution_count": null,
   "metadata": {},
   "outputs": [],
   "source": [
    "import pandas as pd\n",
    "import matplotlib.pyplot as plt\n",
    "from PIL import Image\n",
    "import numpy as np\n",
    "import math\n",
    "from tqdm import tqdm"
   ]
  },
  {
   "cell_type": "code",
   "execution_count": null,
   "metadata": {},
   "outputs": [],
   "source": [
    "#load data\n",
    "data = pd.read_csv(\"data/metadata/selection.csv\")"
   ]
  },
  {
   "cell_type": "code",
   "execution_count": null,
   "metadata": {},
   "outputs": [],
   "source": [
    "data[\"Scientific Name\"].unique()"
   ]
  },
  {
   "cell_type": "markdown",
   "metadata": {},
   "source": [
    "## Create pdf files\n",
    "\n",
    "The images are our principal data, which makes them very important to analyze. However, we can't use the same tools we would use for numerical or text data. Here even more than elsewhere, visualisation is considerably more powerful than other approachs. Typically, the images may differ by the type of take : some birds are taken flying, while other are taken at rest on the floor. Unfortunately, the metadata doesn't contain any information about the type of take. Since the number of images available is relatively small, I decided to display all pictures as thumbnails in order to assess their characteristics and quality.\n",
    "\n",
    "Printing thumbnails of images on serveral rows and columns is a good mean to have a quick visual assessment of the pictures. On the other hand, printing all images in notebook is not very efficient since it will overload the RAM. The first section of the present notebook is used to create figures with matplotlib and save them as pdf files. Those files will then be used for visual assessment.\n",
    "\n",
    "In order to avoid overloading RAM, clear output after creating a pdf file for the species of interest."
   ]
  },
  {
   "cell_type": "code",
   "execution_count": null,
   "metadata": {},
   "outputs": [],
   "source": [
    "#create dataframe for \"Aquila chrysaetos\"\n",
    "ac = data[data[\"Scientific Name\"]==\"Aquila chrysaetos\"]\n",
    "\n",
    "#get the number of observations\n",
    "n = len(ac)\n",
    "\n",
    "#plot the observations\n",
    "fig,axes = plt.subplots(nrows=math.ceil(n/3), ncols=3)\n",
    "fig.set_figwidth(20)\n",
    "fig.set_figheight(100)\n",
    "\n",
    "for i in tqdm(range(n)):\n",
    "    pil_img = Image.open(ac.iloc[i,:][\"storage\"]) #for each observation, get the storage path and open a pillow image\n",
    "    np_img = np.array(pil_img) #turn the image into an array\n",
    "    axes.ravel()[i].imshow(np_img) #display the image at the right position in the grid\n",
    "    ML = ac.iloc[i,:][\"ML Catalog Number\"] #get the ML number of the observation\n",
    "    rating = ac.iloc[i,:][\"Average Community Rating\"] #get the average rating\n",
    "    axes.ravel()[i].set_title(\"ML : {} -- rating : {} -- index : {}\".format(ML,rating,i)) #print the ML number and the index in species dataframe and dimensions\n",
    "\n",
    "plt.tight_layout()    \n",
    "    \n",
    "plt.savefig(\"data/visual_assessment/aquila_chrysaetos.jpg\") #save the figure as a jpg file"
   ]
  },
  {
   "cell_type": "code",
   "execution_count": null,
   "metadata": {},
   "outputs": [],
   "source": [
    "#create dataframe for 'Ardea cinerea'\n",
    "ar = data[data[\"Scientific Name\"]=='Ardea cinerea']\n",
    "\n",
    "#get the number of observations\n",
    "n = len(ar)\n",
    "\n",
    "#plot the observations\n",
    "fig,axes = plt.subplots(nrows=math.ceil(n/3), ncols=3)\n",
    "fig.set_figwidth(20)\n",
    "fig.set_figheight(300)\n",
    "\n",
    "for i in tqdm(range(n)):\n",
    "    pil_img = Image.open(ar.iloc[i,:][\"storage\"]) #for each observation, get the storage path and open a pillow image\n",
    "    np_img = np.array(pil_img) #turn the image into an array\n",
    "    axes.ravel()[i].imshow(np_img) #display the image at the right position in the grid\n",
    "    ML = ar.iloc[i,:][\"ML Catalog Number\"] #get the ML number of the observation\n",
    "    rating = ar.iloc[i,:][\"Average Community Rating\"] #get the average rating\n",
    "    axes.ravel()[i].set_title(\"ML : {} -- rating : {} -- index : {}\".format(ML,rating,i)) #print the ML number and the index in species dataframe and dimensions\n",
    "\n",
    "plt.tight_layout()\n",
    "    \n",
    "plt.savefig(\"data/visual_assessment/ardea_cinerea.jpg\") #save the figure as a jpg file"
   ]
  },
  {
   "cell_type": "code",
   "execution_count": null,
   "metadata": {},
   "outputs": [],
   "source": [
    "#create dataframe for 'Buteo buteo'\n",
    "bb = data[data[\"Scientific Name\"]=='Buteo buteo']\n",
    "\n",
    "#get the number of observations\n",
    "n = len(bb)\n",
    "\n",
    "#plot the observations\n",
    "fig,axes = plt.subplots(nrows=math.ceil(n/3), ncols=3)\n",
    "fig.set_figwidth(20)\n",
    "fig.set_figheight(280)\n",
    "\n",
    "for i in tqdm(range(n)):\n",
    "    pil_img = Image.open(bb.iloc[i,:][\"storage\"]) #for each observation, get the storage path and open a pillow image\n",
    "    np_img = np.array(pil_img) #turn the image into an array\n",
    "    axes.ravel()[i].imshow(np_img) #display the image at the right position in the grid\n",
    "    ML = bb.iloc[i,:][\"ML Catalog Number\"] #get the ML number of the observation\n",
    "    rating = bb.iloc[i,:][\"Average Community Rating\"] #get the average rating\n",
    "    axes.ravel()[i].set_title(\"ML : {} -- rating : {} -- index : {}\".format(ML,rating,i)) #print the ML number and the index in species dataframe and dimensions\n",
    "    \n",
    "plt.tight_layout()\n",
    "\n",
    "plt.savefig(\"data/visual_assessment/buteo_buteo.jpg\") #save the figure as a jpg file"
   ]
  },
  {
   "cell_type": "code",
   "execution_count": null,
   "metadata": {},
   "outputs": [],
   "source": [
    "#create dataframe for 'Aythya fuligula'\n",
    "af = data[data[\"Scientific Name\"]=='Aythya fuligula']\n",
    "\n",
    "#get the number of observations\n",
    "n = len(af)\n",
    "\n",
    "#plot the observations\n",
    "fig,axes = plt.subplots(nrows=math.ceil(n/3), ncols=3)\n",
    "fig.set_figwidth(20)\n",
    "fig.set_figheight(360)\n",
    "\n",
    "for i in tqdm(range(n)):\n",
    "    pil_img = Image.open(af.iloc[i,:][\"storage\"]) #for each observation, get the storage path and open a pillow image\n",
    "    np_img = np.array(pil_img) #turn the image into an array\n",
    "    axes.ravel()[i].imshow(np_img) #display the image at the right position in the grid\n",
    "    ML = af.iloc[i,:][\"ML Catalog Number\"] #get the ML number of the observation\n",
    "    rating = af.iloc[i,:][\"Average Community Rating\"] #get the average rating\n",
    "    axes.ravel()[i].set_title(\"ML : {} -- rating : {} -- index : {}\".format(ML,rating,i)) #print the ML number and the index in species dataframe and dimensions\n",
    "\n",
    "plt.tight_layout()    \n",
    "    \n",
    "plt.savefig(\"data/visual_assessment/aythya_fuligula.jpg\") #save the figure as a jpg file"
   ]
  },
  {
   "cell_type": "code",
   "execution_count": null,
   "metadata": {},
   "outputs": [],
   "source": [
    "#create dataframe for 'Mergus merganser'\n",
    "mm = data[data[\"Scientific Name\"]=='Mergus merganser']\n",
    "\n",
    "#get the number of observations\n",
    "n = len(mm)\n",
    "\n",
    "#plot the observations\n",
    "fig,axes = plt.subplots(nrows=math.ceil(n/3), ncols=3)\n",
    "fig.set_figwidth(20)\n",
    "fig.set_figheight(380)\n",
    "\n",
    "for i in tqdm(range(n)):\n",
    "    pil_img = Image.open(mm.iloc[i,:][\"storage\"]) #for each observation, get the storage path and open a pillow image\n",
    "    np_img = np.array(pil_img) #turn the image into an array\n",
    "    axes.ravel()[i].imshow(np_img) #display the image at the right position in the grid\n",
    "    ML = mm.iloc[i,:][\"ML Catalog Number\"] #get the ML number of the observation\n",
    "    rating = mm.iloc[i,:][\"Average Community Rating\"] #get the average rating\n",
    "    axes.ravel()[i].set_title(\"ML : {} -- rating : {} -- index : {}\".format(ML,rating,i)) #print the ML number and the index in species dataframe and dimensions\n",
    "\n",
    "plt.tight_layout()    \n",
    "    \n",
    "plt.savefig(\"data/visual_assessment/mergus_merganser.jpg\") #save the figure as a jpg file"
   ]
  },
  {
   "cell_type": "code",
   "execution_count": null,
   "metadata": {},
   "outputs": [],
   "source": [
    "#create dataframe for 'Larus michahellis'\n",
    "lm = data[data[\"Scientific Name\"]=='Larus michahellis']\n",
    "\n",
    "#get the number of observations\n",
    "n = len(lm)\n",
    "\n",
    "#plot the observations\n",
    "fig,axes = plt.subplots(nrows=math.ceil(n/3), ncols=3)\n",
    "fig.set_figwidth(20)\n",
    "fig.set_figheight(320)\n",
    "\n",
    "for i in tqdm(range(n)):\n",
    "    pil_img = Image.open(lm.iloc[i,:][\"storage\"]) #for each observation, get the storage path and open a pillow image\n",
    "    np_img = np.array(pil_img) #turn the image into an array\n",
    "    axes.ravel()[i].imshow(np_img) #display the image at the right position in the grid\n",
    "    ML = lm.iloc[i,:][\"ML Catalog Number\"] #get the ML number of the observation\n",
    "    rating = lm.iloc[i,:][\"Average Community Rating\"] #get the average rating\n",
    "    axes.ravel()[i].set_title(\"ML : {} -- rating : {} -- index : {}\".format(ML,rating,i)) #print the ML number and the index in species dataframe and dimensions\n",
    "    \n",
    "plt.tight_layout()\n",
    "    \n",
    "plt.savefig(\"data/visual_assessment/larus_michahellis.jpg\") #save the figure as a jpg file"
   ]
  },
  {
   "cell_type": "code",
   "execution_count": null,
   "metadata": {},
   "outputs": [],
   "source": [
    "#create dataframe for 'Cygnus olor'\n",
    "co = data[data[\"Scientific Name\"]=='Cygnus olor']\n",
    "\n",
    "#get the number of observations\n",
    "n = len(co)\n",
    "\n",
    "#plot the observations\n",
    "fig,axes = plt.subplots(nrows=math.ceil(n/3), ncols=3)\n",
    "fig.set_figwidth(20)\n",
    "fig.set_figheight(420)\n",
    "\n",
    "for i in tqdm(range(n)):\n",
    "    pil_img = Image.open(co.iloc[i,:][\"storage\"]) #for each observation, get the storage path and open a pillow image\n",
    "    np_img = np.array(pil_img) #turn the image into an array\n",
    "    axes.ravel()[i].imshow(np_img) #display the image at the right position in the grid\n",
    "    ML = co.iloc[i,:][\"ML Catalog Number\"] #get the ML number of the observation\n",
    "    rating = co.iloc[i,:][\"Average Community Rating\"] #get the average rating\n",
    "    axes.ravel()[i].set_title(\"ML : {} -- rating : {} -- index : {}\".format(ML,rating,i)) #print the ML number and the index in species dataframe and dimensions\n",
    "    \n",
    "plt.tight_layout()\n",
    "    \n",
    "plt.savefig(\"data/visual_assessment/cygnus_olor.jpg\") #save the figure as a jpg file"
   ]
  },
  {
   "cell_type": "code",
   "execution_count": null,
   "metadata": {},
   "outputs": [],
   "source": [
    "#create dataframe for 'Fulica atra'\n",
    "fa = data[data[\"Scientific Name\"]=='Fulica atra']\n",
    "\n",
    "#get the number of observations\n",
    "n = len(fa)\n",
    "\n",
    "#plot the observations\n",
    "fig,axes = plt.subplots(nrows=math.ceil(n/3), ncols=3)\n",
    "fig.set_figwidth(20)\n",
    "fig.set_figheight(500)\n",
    "\n",
    "for i in tqdm(range(n)):\n",
    "    pil_img = Image.open(fa.iloc[i,:][\"storage\"]) #for each observation, get the storage path and open a pillow image\n",
    "    np_img = np.array(pil_img) #turn the image into an array\n",
    "    axes.ravel()[i].imshow(np_img) #display the image at the right position in the grid\n",
    "    ML = fa.iloc[i,:][\"ML Catalog Number\"] #get the ML number of the observation\n",
    "    rating = fa.iloc[i,:][\"Average Community Rating\"] #get the average rating\n",
    "    axes.ravel()[i].set_title(\"ML : {} -- rating : {} -- index : {}\".format(ML,rating,i)) #print the ML number and the index in species dataframe and dimensions\n",
    "\n",
    "plt.tight_layout()\n",
    "\n",
    "plt.savefig(\"data/visual_assessment/fulica_atra.jpg\") #save the figure as a jpg file"
   ]
  },
  {
   "cell_type": "code",
   "execution_count": null,
   "metadata": {},
   "outputs": [],
   "source": [
    "#create dataframe for 'Milvus milvus'\n",
    "mi = data[data[\"Scientific Name\"]=='Milvus milvus']\n",
    "\n",
    "#get the number of observations\n",
    "n = len(mi)\n",
    "\n",
    "#plot the observations\n",
    "fig,axes = plt.subplots(nrows=math.ceil(n/3), ncols=3)\n",
    "fig.set_figwidth(20)\n",
    "fig.set_figheight(250)\n",
    "\n",
    "for i in tqdm(range(n)):\n",
    "    pil_img = Image.open(mi.iloc[i,:][\"storage\"]) #for each observation, get the storage path and open a pillow image\n",
    "    np_img = np.array(pil_img) #turn the image into an array\n",
    "    axes.ravel()[i].imshow(np_img) #display the image at the right position in the grid\n",
    "    ML = mi.iloc[i,:][\"ML Catalog Number\"] #get the ML number of the observation\n",
    "    rating = mi.iloc[i,:][\"Average Community Rating\"] #get the average rating\n",
    "    axes.ravel()[i].set_title(\"ML : {} -- rating : {} -- index : {}\".format(ML,rating,i)) #print the ML number and the index in species dataframe and dimensions\n",
    "     \n",
    "plt.tight_layout()\n",
    "\n",
    "plt.savefig(\"data/visual_assessment/milvus_milvus.jpg\") #save the figure as a jpg file"
   ]
  },
  {
   "cell_type": "code",
   "execution_count": null,
   "metadata": {},
   "outputs": [],
   "source": [
    "#create dataframe for 'Pyrrhocorax graculus'\n",
    "pg = data[data[\"Scientific Name\"]=='Pyrrhocorax graculus']\n",
    "\n",
    "#get the number of observations\n",
    "n = len(pg)\n",
    "\n",
    "#plot the observations\n",
    "fig,axes = plt.subplots(nrows=math.ceil(n/3), ncols=3)\n",
    "fig.set_figwidth(20)\n",
    "fig.set_figheight(380)\n",
    "\n",
    "for i in tqdm(range(n)):\n",
    "    pil_img = Image.open(pg.iloc[i,:][\"storage\"]) #for each observation, get the storage path and open a pillow image\n",
    "    np_img = np.array(pil_img) #turn the image into an array\n",
    "    axes.ravel()[i].imshow(np_img) #display the image at the right position in the grid\n",
    "    ML = pg.iloc[i,:][\"ML Catalog Number\"] #get the ML number of the observation\n",
    "    rating = pg.iloc[i,:][\"Average Community Rating\"] #get the average rating\n",
    "    axes.ravel()[i].set_title(\"ML : {} -- rating : {} -- index : {}\".format(ML,rating,i)) #print the ML number and the index in species dataframe and dimensions\n",
    "    \n",
    "plt.tight_layout()\n",
    "\n",
    "plt.savefig(\"data/visual_assessment/pyrrhocorax_graculus.jpg\") #save the figure as a jpg file"
   ]
  },
  {
   "cell_type": "code",
   "execution_count": null,
   "metadata": {},
   "outputs": [],
   "source": [
    "#create dataframe for 'Turdus merula'\n",
    "tm = data[data[\"Scientific Name\"]=='Turdus merula']\n",
    "\n",
    "#get the number of observations\n",
    "n = len(tm)\n",
    "\n",
    "#plot the observations\n",
    "fig,axes = plt.subplots(nrows=math.ceil(n/3), ncols=3)\n",
    "fig.set_figwidth(20)\n",
    "fig.set_figheight(150)\n",
    "\n",
    "for i in tqdm(range(n)):\n",
    "    pil_img = Image.open(tm.iloc[i,:][\"storage\"]) #for each observation, get the storage path and open a pillow image\n",
    "    np_img = np.array(pil_img) #turn the image into an array\n",
    "    axes.ravel()[i].imshow(np_img) #display the image at the right position in the grid\n",
    "    ML = tm.iloc[i,:][\"ML Catalog Number\"] #get the ML number of the observation\n",
    "    rating = tm.iloc[i,:][\"Average Community Rating\"] #get the average rating\n",
    "    axes.ravel()[i].set_title(\"ML : {} -- rating : {} -- index : {}\".format(ML,rating,i)) #print the ML number and the index in species dataframe and dimensions\n",
    "    \n",
    "plt.tight_layout()\n",
    "\n",
    "plt.savefig(\"data/visual_assessment/turdus_merula.jpg\") #save the figure as a jpg file"
   ]
  },
  {
   "cell_type": "code",
   "execution_count": null,
   "metadata": {},
   "outputs": [],
   "source": [
    "#create dataframe for 'Podiceps cristatus'\n",
    "pc = data[data[\"Scientific Name\"]=='Podiceps cristatus']\n",
    "\n",
    "#get the number of observations\n",
    "n = len(pc)\n",
    "\n",
    "#plot the observations\n",
    "fig,axes = plt.subplots(nrows=math.ceil(n/3), ncols=3)\n",
    "fig.set_figwidth(20)\n",
    "fig.set_figheight(540)\n",
    "\n",
    "for i in tqdm(range(n)):\n",
    "    pil_img = Image.open(pc.iloc[i,:][\"storage\"]) #for each observation, get the storage path and open a pillow image\n",
    "    np_img = np.array(pil_img) #turn the image into an array\n",
    "    axes.ravel()[i].imshow(np_img) #display the image at the right position in the grid\n",
    "    ML = pc.iloc[i,:][\"ML Catalog Number\"] #get the ML number of the observation\n",
    "    rating = pc.iloc[i,:][\"Average Community Rating\"] #get the average rating\n",
    "    axes.ravel()[i].set_title(\"ML : {} -- rating : {} -- index : {}\".format(ML,rating,i)) #print the ML number and the index in species dataframe and dimensions\n",
    "    \n",
    "plt.tight_layout()\n",
    "\n",
    "plt.savefig(\"data/visual_assessment/podiceps_cristatus.jpg\") #save the figure as a jpg file"
   ]
  },
  {
   "cell_type": "code",
   "execution_count": null,
   "metadata": {},
   "outputs": [],
   "source": [
    "#create dataframe for 'Chroicocephalus ridibundus'\n",
    "cr = data[data[\"Scientific Name\"]=='Chroicocephalus ridibundus']\n",
    "\n",
    "#get the number of observations\n",
    "n = len(cr)\n",
    "\n",
    "#plot the observations\n",
    "fig,axes = plt.subplots(nrows=math.ceil(n/3), ncols=3)\n",
    "fig.set_figwidth(20)\n",
    "fig.set_figheight(540)\n",
    "\n",
    "for i in tqdm(range(n)):\n",
    "    pil_img = Image.open(cr.iloc[i,:][\"storage\"]) #for each observation, get the storage path and open a pillow image\n",
    "    np_img = np.array(pil_img) #turn the image into an array\n",
    "    axes.ravel()[i].imshow(np_img) #display the image at the right position in the grid\n",
    "    ML = cr.iloc[i,:][\"ML Catalog Number\"] #get the ML number of the observation\n",
    "    rating = cr.iloc[i,:][\"Average Community Rating\"] #get the average rating\n",
    "    axes.ravel()[i].set_title(\"ML : {} -- rating : {} -- index : {}\".format(ML,rating,i)) #print the ML number and the index in species dataframe and dimensions\n",
    "       \n",
    "plt.tight_layout()\n",
    "\n",
    "plt.savefig(\"data/visual_assessment/chroicocephalus_ridibundus.jpg\") #save the figure as a jpg file"
   ]
  },
  {
   "cell_type": "code",
   "execution_count": null,
   "metadata": {},
   "outputs": [],
   "source": [
    "#create dataframe for 'Netta rufina'\n",
    "nr = data[data[\"Scientific Name\"]=='Netta rufina']\n",
    "\n",
    "#get the number of observations\n",
    "n = len(nr)\n",
    "\n",
    "#plot the observations\n",
    "fig,axes = plt.subplots(nrows=math.ceil(n/3), ncols=3)\n",
    "fig.set_figwidth(20)\n",
    "fig.set_figheight(500)\n",
    "\n",
    "for i in tqdm(range(n)):\n",
    "    pil_img = Image.open(nr.iloc[i,:][\"storage\"]) #for each observation, get the storage path and open a pillow image\n",
    "    np_img = np.array(pil_img) #turn the image into an array\n",
    "    axes.ravel()[i].imshow(np_img) #display the image at the right position in the grid\n",
    "    ML = nr.iloc[i,:][\"ML Catalog Number\"] #get the ML number of the observation\n",
    "    rating = nr.iloc[i,:][\"Average Community Rating\"] #get the average rating\n",
    "    axes.ravel()[i].set_title(\"ML : {} -- rating : {} -- index : {}\".format(ML,rating,i)) #print the ML number and the index in species dataframe and dimensions\n",
    "    \n",
    "plt.tight_layout()\n",
    "\n",
    "plt.savefig(\"data/visual_assessment/netta_rufina.jpg\") #save the figure as a jpg file"
   ]
  },
  {
   "cell_type": "markdown",
   "metadata": {},
   "source": [
    "## Visual assessment of the images\n",
    "\n",
    "Based on the pdf files created above, we can make some observations about the content of the images. "
   ]
  },
  {
   "cell_type": "markdown",
   "metadata": {},
   "source": [
    "### 1) Aquila chrysaetos\n",
    "   - not enough observations (47)"
   ]
  },
  {
   "cell_type": "markdown",
   "metadata": {},
   "source": [
    "### 2) Ardea cinerea\n",
    "- relatively small number of observations (151)\n",
    "- good general quality of images\n",
    "- types of take \n",
    "    - bird mostly standing\n",
    "    - a few bird flying\n",
    "    - a few macros\n",
    "    - a few birds in group\n",
    "- no sexual dimorphism\n",
    "- no look-alike"
   ]
  },
  {
   "cell_type": "markdown",
   "metadata": {},
   "source": [
    "### 3) Aythya fuligula\n",
    "- moderate number of observations (181)\n",
    "- good general quality of images\n",
    "- types of take :\n",
    "    - bird mostly afloat\n",
    "    - non-negligeable number of birds in group\n",
    "    - a few macros\n",
    "- light sexual dimorphism : \n",
    "    - male's flanks are white whereas female's ones are brown\n",
    "    - silhouette is the same for both sexs\n",
    "- look-alike:\n",
    "    - very light look-alike of both sexs with netta rufina since the silhouette is quite similar but the colors are different\n",
    "    - very light look-alike of the male with Fulicula atra since they are both mostly black but the silhouette is different"
   ]
  },
  {
   "cell_type": "markdown",
   "metadata": {},
   "source": [
    "### 4) Buteo buteo\n",
    "\n",
    "- relatively small number of images (139)\n",
    "- good general quality of images\n",
    "- types of take :\n",
    "    - large number of birds flying\n",
    "    - large number of birds standing\n",
    "- plumage varies considerably from specimen to specimen !\n",
    "- look-alike:\n",
    "    - strong with Aquila chrysaetos since the size is difficult to assess on a picture\n",
    "    - light with Milvus milvus but the shape of the tail and the wings are different"
   ]
  },
  {
   "cell_type": "markdown",
   "metadata": {},
   "source": [
    "### 5) Chroicocephalus ridibundus\n",
    "- relatively large number of images (274)\n",
    "- good general quality of images\n",
    "- types of take:\n",
    "    - large number of birds flying\n",
    "    - large number of birds standing\n",
    "    - moderate number of birds afloat\n",
    "- no sexual dimorphism but plumage varies with the seasons !\n",
    "- light look-alike with Larus michahellis since they are both white lake birds, but the silhouette is different"
   ]
  },
  {
   "cell_type": "markdown",
   "metadata": {},
   "source": [
    "### 6) Cygnus olor\n",
    "- relatively large number of images (213)\n",
    "- quite good general quality of images (non negligeable share of birds in group)\n",
    "- types of take:\n",
    "    - birds mostly afloat\n",
    "    - moderate number of birds flying\n",
    "    - moderate number of birds in group\n",
    "- no sexual dimorphism\n",
    "- no look-alike"
   ]
  },
  {
   "cell_type": "markdown",
   "metadata": {},
   "source": [
    "### 7) Fulica atra\n",
    "- relatively large number of images (251)\n",
    "- good general quality of images\n",
    "- types of take:\n",
    "    - birds mostly alfloat\n",
    "    - non negligeable number of immature specimens\n",
    "- no sexual dimorphism\n",
    "- very light look-alike with Aythya fuligula male since they are both mostly black but the silhouette is different"
   ]
  },
  {
   "cell_type": "markdown",
   "metadata": {},
   "source": [
    "### 8) Larus michahellis\n",
    "- relatively small number of images (162)\n",
    "- good general quality of images\n",
    "- types of take:\n",
    "    - birds mostly flying\n",
    "    - moderate number of birds afloat\n",
    "    - moderate number of birds standing\n",
    "    - moderate number of birds in group\n",
    "- no sexual dimorphism but plumage varies with age\n",
    "- light look-alike with Chroicocephalus ridibundus since they are both white lake birds, but the silhouette is different"
   ]
  },
  {
   "cell_type": "markdown",
   "metadata": {},
   "source": [
    "### 9) Mergus merganser\n",
    "- moderate number of pictures (189)\n",
    "- good general quality of images\n",
    "- types of take:\n",
    "    - birds mostly afloat\n",
    "    - small number of birds flying\n",
    "- sexual dimorphism:\n",
    "    - male has a dark green head, white flanks and black back\n",
    "    - female has tan head and light grey body\n",
    "    - silhouette is the same except that the female has a hoopoe\n",
    "- look-alike\n",
    "    - female: look-alike with Podiceps cristatus since the silhouette and the colors are similar"
   ]
  },
  {
   "cell_type": "markdown",
   "metadata": {},
   "source": [
    "### 10) Milvus milvus\n",
    "- relatively small number of images (128)\n",
    "- quite good general quality of images (some birds are relatively distant)\n",
    "- types of take:\n",
    "    - birds mostly flying\n",
    "    - small number of birds standing\n",
    "- no sexual dimorphism\n",
    "- light look-alike with Buteo buteo and Aquila chrysaetos but the shape of the tail and the wings are different"
   ]
  },
  {
   "cell_type": "markdown",
   "metadata": {},
   "source": [
    "### 11) Netta rufina\n",
    "- relatively large number of images (251)\n",
    "- good general quality of images\n",
    "- types of take:\n",
    "    - birds mostly afloat\n",
    "    - small number of birds in group\n",
    "- sexual dimorphism\n",
    "    - male has a tan head, a red beak and a black breast\n",
    "    - female has a dark grey and white head, a dark beak and a light grey body\n",
    "    - silhouette is the same for both sexs\n",
    "- look-alike:\n",
    "    - very light look-alike of both sexs with Aythya fuligula since the silhouette is quite similar but the colors are different\n",
    "    - ligth look-alike with Podiceps cristatus since the colors are rather similar but the silhouette is different"
   ]
  },
  {
   "cell_type": "markdown",
   "metadata": {},
   "source": [
    "### 12) Podiceps cristatus\n",
    "- relatively large number of images (273)\n",
    "- good general quality of images\n",
    "- types of take:\n",
    "    - birds mostly afloat\n",
    "    - large number of images containing multiple specimens\n",
    "- no sexual dimorphism\n",
    "- look-alike:\n",
    "    - strong look alike with Mergus merganser female since the silhouette and the colors are similar\n",
    "    - light look-alike with netta rufina since the colors are rather similar but the silhouette is different"
   ]
  },
  {
   "cell_type": "markdown",
   "metadata": {},
   "source": [
    "### 13) Pyrrhocorax graculus\n",
    "- moderate number of observations (190)\n",
    "- good general quality of images\n",
    "- types of take:\n",
    "    - birds mostly stand\n",
    "    - moderate number of bird flying\n",
    "- no sexual dimorphism\n",
    "- strong look-alike with Turdus merula"
   ]
  },
  {
   "cell_type": "markdown",
   "metadata": {},
   "source": [
    "### 14) Turdus merula\n",
    "- very small number of observations (75)\n",
    "- good general quality of images\n",
    "- types of take:\n",
    "    - birds are mostly stand\n",
    "    - moderate share of macros\n",
    "    - small number of birds flying\n",
    "- sexual dimorphism : male is black whereas female is mottled brown\n",
    "- strong look-alike of the male with Pyrrhocorax graculus ; Turdus merula is a little stockier and has a golden circle around the eye"
   ]
  },
  {
   "cell_type": "markdown",
   "metadata": {},
   "source": [
    "## Select classes"
   ]
  },
  {
   "cell_type": "markdown",
   "metadata": {},
   "source": [
    "### First classification pool\n",
    "\n",
    "Given the small number of observations, we must be humble and avoid setting irrealistic goals. A classification task with 5 classes that are relatively homogenous within each class and relatively heterogenous between them is a reasonable challenge. Based on the results of exploratory metadata analysis and the visual assessment of the pictures, I have drawn the following conclusions.\n",
    "\n",
    "- Aquila chrisaetos and Turdus merula can be eliminated since we don't have enough observations. \n",
    "- Mergus merganser has a pronounced sexual dimorphism. In addition, the female looks pretty much like Podiceps cristatus. As a result, female Mergus merganser are highly likely to be misclassified as Podiceps cristatus. For this reason, I rule out Mergus merganser.\n",
    "- For Aythya fuligula, Cygnus olor, Fulica atra, Netta rufina, Podiceps cristatus, and to a lesser extent Larus michahellis and Chroicocephalus ridibundus, the background is mostly water. This may make the images very similar for the algorithm. Nevertheless, it can be reduced by cropping the images close to the bird.\n",
    "- The same is true with respect to the blue sky for Buteo buteo, Milvus milvus, Pyrrhocorax graculus and to a lesser extent Larus michahellis and Chroicocephalus ridibundus.\n",
    "- Species with a larger number of observations should be preferred ; we can always drop observations if necessary.\n",
    "- All species still have some images that are not appropriate for classification: immature specimens, very distant group of birds, etc. However, these images are few and it will be easy to spot them visually and drop them from the dataset.\n",
    "\n",
    "I selected the following species in a first classification pool:\n",
    "\n",
    "1. Podiceps cristatus\n",
    "2. Fulica atra\n",
    "3. Chroicocephalus ridibundus\n",
    "4. Cygnus olor\n",
    "5. Pyrrhocorax graculus"
   ]
  },
  {
   "cell_type": "markdown",
   "metadata": {},
   "source": [
    "### Second classification pool\n",
    "\n",
    "In a second phase, I would like to increase the difficult a little by introducing species that looks like other species. Indeed, I want to replace Chroicocephalus ridibundus by Netta Rufina which quite similar in colors to Podiceps cristatus, and replace Cygnus olor by Turdus merula which is very similar to Pyrrhocorax graculus and has the same dominant color as Fulica atra.\n",
    "\n",
    "In particular, it will be interesting to see if a can settle the algorithm in a way to give sufficiently weight to the metadata to separate similar looking species. Moreover, Netta rufina has a quite strong sexual dimorphism, but the male and female are likely to be observed in the same places at the same period.\n",
    "\n",
    "We also note that Turdus merula has far less observations than other classes. In would be interesting to see what is the effect on the classification and which strategies we can find to handle potential problems.\n",
    "\n",
    "The second classification contains the following species:\n",
    "\n",
    "1. Podiceps cristatus\n",
    "2. Fulica atra\n",
    "3. Netta rufina\n",
    "4. Turdus merula\n",
    "5. Pyrrhocorax graculus"
   ]
  },
  {
   "cell_type": "code",
   "execution_count": null,
   "metadata": {},
   "outputs": [],
   "source": []
  }
 ],
 "metadata": {
  "kernelspec": {
   "display_name": "Python 3",
   "language": "python",
   "name": "python3"
  },
  "language_info": {
   "codemirror_mode": {
    "name": "ipython",
    "version": 3
   },
   "file_extension": ".py",
   "mimetype": "text/x-python",
   "name": "python",
   "nbconvert_exporter": "python",
   "pygments_lexer": "ipython3",
   "version": "3.6.9"
  }
 },
 "nbformat": 4,
 "nbformat_minor": 4
}
