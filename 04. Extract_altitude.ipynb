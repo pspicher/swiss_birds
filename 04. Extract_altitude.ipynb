{
 "cells": [
  {
   "cell_type": "markdown",
   "metadata": {},
   "source": [
    "# Extract altitude"
   ]
  },
  {
   "cell_type": "markdown",
   "metadata": {},
   "source": [
    "## Extract altitude from Swiss coordinates LV03\n",
    "\n",
    "MNT25 / 200 is a topological model of Switzerland freely offered by the Swiss topological institute. It links every pair of coordinates from the old Swiss coordinate system (LV03) with an altitude based on the 1/25000 topological maps. This free version has a precision of 200m.\n",
    "\n",
    "The model is quite heavy. You must download it [here](https://shop.swisstopo.admin.ch/fr/products/height_models/dhm25200) and place the file DHM200.xyz in the folder \"data/MNT25\"."
   ]
  },
  {
   "cell_type": "code",
   "execution_count": 1,
   "metadata": {},
   "outputs": [],
   "source": [
    "#import modules\n",
    "import pandas as pd\n",
    "from tqdm import tqdm"
   ]
  },
  {
   "cell_type": "code",
   "execution_count": 2,
   "metadata": {},
   "outputs": [],
   "source": [
    "#read csv file containing the coordinates E-W, N-S, altitude\n",
    "alt = pd.read_csv(\"data/MNT25/DHM200.xyz\", header=None, sep=\" \", names=[\"E\", \"N\", \"altitude\"])"
   ]
  },
  {
   "cell_type": "code",
   "execution_count": 3,
   "metadata": {},
   "outputs": [
    {
     "data": {
      "text/plain": [
       "0          False\n",
       "1          False\n",
       "2          False\n",
       "3           True\n",
       "4          False\n",
       "5          False\n",
       "6          False\n",
       "7          False\n",
       "8          False\n",
       "9          False\n",
       "10         False\n",
       "11         False\n",
       "12         False\n",
       "13         False\n",
       "14         False\n",
       "15         False\n",
       "16         False\n",
       "17         False\n",
       "18         False\n",
       "19         False\n",
       "20         False\n",
       "21         False\n",
       "22         False\n",
       "23         False\n",
       "24         False\n",
       "25         False\n",
       "26         False\n",
       "27         False\n",
       "28         False\n",
       "29         False\n",
       "           ...  \n",
       "1465586    False\n",
       "1465587    False\n",
       "1465588    False\n",
       "1465589    False\n",
       "1465590    False\n",
       "1465591    False\n",
       "1465592    False\n",
       "1465593    False\n",
       "1465594    False\n",
       "1465595    False\n",
       "1465596    False\n",
       "1465597    False\n",
       "1465598    False\n",
       "1465599    False\n",
       "1465600    False\n",
       "1465601    False\n",
       "1465602    False\n",
       "1465603    False\n",
       "1465604    False\n",
       "1465605    False\n",
       "1465606    False\n",
       "1465607    False\n",
       "1465608    False\n",
       "1465609    False\n",
       "1465610    False\n",
       "1465611    False\n",
       "1465612    False\n",
       "1465613    False\n",
       "1465614    False\n",
       "1465615    False\n",
       "Name: E, Length: 1465616, dtype: bool"
      ]
     },
     "execution_count": 3,
     "metadata": {},
     "output_type": "execute_result"
    }
   ],
   "source": [
    "#return a list of boolean based on the criterion : which are the observation with east coordinate equal to X\n",
    "(alt[\"E\"]==655600)"
   ]
  },
  {
   "cell_type": "code",
   "execution_count": 4,
   "metadata": {},
   "outputs": [
    {
     "data": {
      "text/plain": [
       "0           True\n",
       "1           True\n",
       "2           True\n",
       "3           True\n",
       "4           True\n",
       "5           True\n",
       "6           True\n",
       "7           True\n",
       "8           True\n",
       "9           True\n",
       "10          True\n",
       "11          True\n",
       "12          True\n",
       "13          True\n",
       "14          True\n",
       "15          True\n",
       "16          True\n",
       "17          True\n",
       "18          True\n",
       "19          True\n",
       "20          True\n",
       "21          True\n",
       "22          True\n",
       "23          True\n",
       "24          True\n",
       "25          True\n",
       "26          True\n",
       "27          True\n",
       "28          True\n",
       "29          True\n",
       "           ...  \n",
       "1465586    False\n",
       "1465587    False\n",
       "1465588    False\n",
       "1465589    False\n",
       "1465590    False\n",
       "1465591    False\n",
       "1465592    False\n",
       "1465593    False\n",
       "1465594    False\n",
       "1465595    False\n",
       "1465596    False\n",
       "1465597    False\n",
       "1465598    False\n",
       "1465599    False\n",
       "1465600    False\n",
       "1465601    False\n",
       "1465602    False\n",
       "1465603    False\n",
       "1465604    False\n",
       "1465605    False\n",
       "1465606    False\n",
       "1465607    False\n",
       "1465608    False\n",
       "1465609    False\n",
       "1465610    False\n",
       "1465611    False\n",
       "1465612    False\n",
       "1465613    False\n",
       "1465614    False\n",
       "1465615    False\n",
       "Name: N, Length: 1465616, dtype: bool"
      ]
     },
     "execution_count": 4,
     "metadata": {},
     "output_type": "execute_result"
    }
   ],
   "source": [
    "#return a list of boolean based on the criterion : which are the observation with north coordinate equal to X\n",
    "(alt[\"N\"]==302000)"
   ]
  },
  {
   "cell_type": "code",
   "execution_count": 5,
   "metadata": {},
   "outputs": [
    {
     "data": {
      "text/plain": [
       "3    829.3\n",
       "Name: altitude, dtype: float64"
      ]
     },
     "execution_count": 5,
     "metadata": {},
     "output_type": "execute_result"
    }
   ],
   "source": [
    "#select the observation that satisfy the two preceding boolean conditions and extract the altitude\n",
    "alt[(alt[\"E\"]==655600)&(alt[\"N\"]==302000)][\"altitude\"]"
   ]
  },
  {
   "cell_type": "markdown",
   "metadata": {},
   "source": [
    "In our example, we see that the point with coordinates (E:655600, N:302000) is the observation with index 3 and the corresponding altitude is 829.3m.\n",
    "\n",
    "However, not all possible pairs of coordinates are referenced in this free version. We want to build a function that return the altitude of the nearest point referenced."
   ]
  },
  {
   "cell_type": "code",
   "execution_count": 6,
   "metadata": {},
   "outputs": [
    {
     "data": {
      "text/html": [
       "<div>\n",
       "<style scoped>\n",
       "    .dataframe tbody tr th:only-of-type {\n",
       "        vertical-align: middle;\n",
       "    }\n",
       "\n",
       "    .dataframe tbody tr th {\n",
       "        vertical-align: top;\n",
       "    }\n",
       "\n",
       "    .dataframe thead th {\n",
       "        text-align: right;\n",
       "    }\n",
       "</style>\n",
       "<table border=\"1\" class=\"dataframe\">\n",
       "  <thead>\n",
       "    <tr style=\"text-align: right;\">\n",
       "      <th></th>\n",
       "      <th>E</th>\n",
       "      <th>N</th>\n",
       "      <th>altitude</th>\n",
       "    </tr>\n",
       "  </thead>\n",
       "  <tbody>\n",
       "    <tr>\n",
       "      <th>537727</th>\n",
       "      <td>655600.0</td>\n",
       "      <td>207200.0</td>\n",
       "      <td>816.9</td>\n",
       "    </tr>\n",
       "    <tr>\n",
       "      <th>361215</th>\n",
       "      <td>655600.0</td>\n",
       "      <td>229600.0</td>\n",
       "      <td>705.6</td>\n",
       "    </tr>\n",
       "    <tr>\n",
       "      <th>24199</th>\n",
       "      <td>655600.0</td>\n",
       "      <td>292800.0</td>\n",
       "      <td>882.1</td>\n",
       "    </tr>\n",
       "  </tbody>\n",
       "</table>\n",
       "</div>"
      ],
      "text/plain": [
       "               E         N  altitude\n",
       "537727  655600.0  207200.0     816.9\n",
       "361215  655600.0  229600.0     705.6\n",
       "24199   655600.0  292800.0     882.1"
      ]
     },
     "execution_count": 6,
     "metadata": {},
     "output_type": "execute_result"
    }
   ],
   "source": [
    "#return the d nearest points\n",
    "#however, it is not what we search because it doesn't return all points with E coordinates 655600 but a list of length n\n",
    "#as a result, the point with the coordinate N of interest may not be in the list...\n",
    "d=3\n",
    "alt.loc[(alt['E']-655599).abs().argsort()[:d]]"
   ]
  },
  {
   "cell_type": "code",
   "execution_count": 7,
   "metadata": {},
   "outputs": [
    {
     "data": {
      "text/plain": [
       "655600.0"
      ]
     },
     "execution_count": 7,
     "metadata": {},
     "output_type": "execute_result"
    }
   ],
   "source": [
    "#extract the value of the nearest E coordinate referenced\n",
    "NNE = alt.loc[((alt['E']-655599).abs()).idxmin(), \"E\"]\n",
    "NNE"
   ]
  },
  {
   "cell_type": "code",
   "execution_count": 8,
   "metadata": {},
   "outputs": [
    {
     "data": {
      "text/plain": [
       "302000.0"
      ]
     },
     "execution_count": 8,
     "metadata": {},
     "output_type": "execute_result"
    }
   ],
   "source": [
    "#extract the value of the nearest N coordinate referenced\n",
    "NNN = alt.loc[((alt['N']-302005).abs()).idxmin(), \"N\"]\n",
    "NNN"
   ]
  },
  {
   "cell_type": "code",
   "execution_count": 9,
   "metadata": {},
   "outputs": [
    {
     "data": {
      "text/plain": [
       "3    829.3\n",
       "Name: altitude, dtype: float64"
      ]
     },
     "execution_count": 9,
     "metadata": {},
     "output_type": "execute_result"
    }
   ],
   "source": [
    "#extract the altitude using the preceding code\n",
    "alt[(alt[\"E\"]==NNE)&(alt[\"N\"]==NNN)][\"altitude\"]"
   ]
  },
  {
   "cell_type": "code",
   "execution_count": 10,
   "metadata": {},
   "outputs": [],
   "source": [
    "#create a function for parameter E and N\n",
    "def extract_altitude_LV03(topo_model, E, N):\n",
    "    #extract the value of the nearest E coordinate referenced\n",
    "    NNE = topo_model.loc[((topo_model['E']-E).abs()).idxmin(), \"E\"]\n",
    "    \n",
    "    #extract the value of the nearest N coordinate referenced\n",
    "    NNN = topo_model.loc[((topo_model['N']-N).abs()).idxmin(), \"N\"]\n",
    "    \n",
    "    #extract the altitude using the preceding code\n",
    "    altitude = topo_model[(topo_model[\"E\"]==NNE)&(topo_model[\"N\"]==NNN)][\"altitude\"]\n",
    "    \n",
    "    return altitude"
   ]
  },
  {
   "cell_type": "code",
   "execution_count": 11,
   "metadata": {},
   "outputs": [
    {
     "data": {
      "text/plain": [
       "3    829.3\n",
       "Name: altitude, dtype: float64"
      ]
     },
     "execution_count": 11,
     "metadata": {},
     "output_type": "execute_result"
    }
   ],
   "source": [
    "#test the function on the coordinates used before\n",
    "extract_altitude_LV03(alt, 655599, 302005)"
   ]
  },
  {
   "cell_type": "code",
   "execution_count": 12,
   "metadata": {},
   "outputs": [
    {
     "data": {
      "text/plain": [
       "209993    670.1\n",
       "Name: altitude, dtype: float64"
      ]
     },
     "execution_count": 12,
     "metadata": {},
     "output_type": "execute_result"
    }
   ],
   "source": [
    "#test the function on the coordinates of the Post St. Gallen (official altitude 668)\n",
    "extract_altitude_LV03(alt, 745720, 254200)"
   ]
  },
  {
   "cell_type": "code",
   "execution_count": 13,
   "metadata": {},
   "outputs": [
    {
     "data": {
      "text/plain": [
       "1411935    3238.7\n",
       "Name: altitude, dtype: float64"
      ]
     },
     "execution_count": 13,
     "metadata": {},
     "output_type": "execute_result"
    }
   ],
   "source": [
    "#test the function on the coordinates of the summit of the Bertolhütte (official altitude 3311)\n",
    "extract_altitude_LV03(alt, 606981, 94963)"
   ]
  },
  {
   "cell_type": "code",
   "execution_count": 14,
   "metadata": {},
   "outputs": [
    {
     "data": {
      "text/plain": [
       "1030061    2283.99\n",
       "Name: altitude, dtype: float64"
      ]
     },
     "execution_count": 14,
     "metadata": {},
     "output_type": "execute_result"
    }
   ],
   "source": [
    "#test the function on the coordinates of the summit of the Vanil Noir (official altitude 2389)\n",
    "extract_altitude_LV03(alt, 577729, 153062)"
   ]
  },
  {
   "cell_type": "code",
   "execution_count": 15,
   "metadata": {},
   "outputs": [
    {
     "data": {
      "text/plain": [
       "853492    2109.1\n",
       "Name: altitude, dtype: float64"
      ]
     },
     "execution_count": 15,
     "metadata": {},
     "output_type": "execute_result"
    }
   ],
   "source": [
    "#test the function on the coordinates of the summit of the Ochse (official altitude 2188)\n",
    "extract_altitude_LV03(alt, 598463, 171950)"
   ]
  },
  {
   "cell_type": "markdown",
   "metadata": {},
   "source": [
    "We see that some an error is likely to occur for a summit because the difference of altitude with the nearest referenced point may by important. However, the function give a good approximation of the altitude."
   ]
  },
  {
   "cell_type": "code",
   "execution_count": 16,
   "metadata": {},
   "outputs": [
    {
     "data": {
      "text/plain": [
       "E           607000.0\n",
       "N            95000.0\n",
       "altitude      3238.7\n",
       "Name: 1411935, dtype: float64"
      ]
     },
     "execution_count": 16,
     "metadata": {},
     "output_type": "execute_result"
    }
   ],
   "source": [
    "alt.loc[1411935,:]"
   ]
  },
  {
   "cell_type": "markdown",
   "metadata": {},
   "source": [
    "## Convert WGS84 coordinates to LV03\n",
    "\n",
    "The coordinates available in metadata are based on WGS84 standard and is given in decimal degrees. In order to use the above defined function, we must first convert WGS84 coordinates to LV03. Formulas are provided by the [Swiss Topological Institute](https://www.swisstopo.admin.ch/en/maps-data-online/calculation-services.html) in a pdf file named `Approximate formulas for the transformation between Swiss projection coordinates and-WGS84.pdf`.\n",
    "\n",
    "I created a function using those formulas."
   ]
  },
  {
   "cell_type": "code",
   "execution_count": 17,
   "metadata": {},
   "outputs": [],
   "source": [
    "#create a function to convert WGS84 coordinates to LV03\n",
    "def convert_WGS84_to_LV03(latitude,longitude):\n",
    "    f = latitude*3600 #transform decimal degrees to sexagesimal seconds\n",
    "    l = longitude*3600 #transform decimal degrees to sexagesimal seconds\n",
    "    f_p = (f-169028.66)/10000 #intermediate result\n",
    "    l_p = (l-26782.5)/10000 #intermediate result\n",
    "    E = 2600072.37 + 211455.93*l_p - 10938.51*l_p*f_p - 0.36*l_p*f_p**2 - 44.54*l_p**3 #get East coordinate LV95\n",
    "    N = 1200147.07 + 308807.95*f_p + 3745.25*l_p**2 + 76.63*f_p**2 - 194.56*(l_p**2)*f_p + 119.79*f_p**3 #get North coordinate LV95\n",
    "    e = round(E - 2000000) #get East coordinate LV03\n",
    "    n = round(N - 1000000) #get North coordinate LV03\n",
    "    \n",
    "    return [e,n]"
   ]
  },
  {
   "cell_type": "code",
   "execution_count": 18,
   "metadata": {},
   "outputs": [
    {
     "data": {
      "text/plain": [
       "[745720, 254200]"
      ]
     },
     "execution_count": 18,
     "metadata": {},
     "output_type": "execute_result"
    }
   ],
   "source": [
    "#try the function on the coordinates of the Post St. Gallen (47.42247,9.36997)\n",
    "convert_WGS84_to_LV03(47.42247,9.36997)"
   ]
  },
  {
   "cell_type": "markdown",
   "metadata": {},
   "source": [
    "Trying the function on the coordinates of the Post St. Gallen (47.42247,9.36997), we note that we obtain exactly the LV03 coordinates we used in the first section. The function thus works and is very accurate. \n",
    "\n",
    "Then, I create a function that directly find the altitude from WGS84 coordinates in decimal degrees. As expected, with the same result as with extract_altitude_LV03()."
   ]
  },
  {
   "cell_type": "code",
   "execution_count": 19,
   "metadata": {},
   "outputs": [],
   "source": [
    "def extract_altitude_WGS84(topo_model,latitude,longitude):\n",
    "    #transform decimal degrees to sexagesimal seconds\n",
    "    f = latitude*3600 \n",
    "    l = longitude*3600\n",
    "    \n",
    "    #intermediate result\n",
    "    f_p = (f-169028.66)/10000\n",
    "    l_p = (l-26782.5)/10000\n",
    "    \n",
    "    #get LV95 coordinates\n",
    "    E = 2600072.37 + 211455.93*l_p - 10938.51*l_p*f_p - 0.36*l_p*f_p**2 - 44.54*l_p**3\n",
    "    N = 1200147.07 + 308807.95*f_p + 3745.25*l_p**2 + 76.63*f_p**2 - 194.56*(l_p**2)*f_p + 119.79*f_p**3\n",
    "    \n",
    "    #get LV03 coordinates\n",
    "    e = round(E - 2000000) #get East coordinate LV03\n",
    "    n = round(N - 1000000) #get North coordinate LV03\n",
    "    \n",
    "    #extract the value of the nearest E coordinate referenced\n",
    "    NNE = topo_model.loc[((topo_model['E']-e).abs()).idxmin(), \"E\"]\n",
    "    \n",
    "    #extract the value of the nearest N coordinate referenced\n",
    "    NNN = topo_model.loc[((topo_model['N']-n).abs()).idxmin(), \"N\"]\n",
    "    \n",
    "    #extract the altitude using the preceding code\n",
    "    altitude = topo_model[(topo_model[\"E\"]==NNE)&(topo_model[\"N\"]==NNN)][\"altitude\"]\n",
    "    \n",
    "    return altitude"
   ]
  },
  {
   "cell_type": "markdown",
   "metadata": {},
   "source": [
    "## Extract altitude variable from coordinates of observations"
   ]
  },
  {
   "cell_type": "code",
   "execution_count": 20,
   "metadata": {},
   "outputs": [],
   "source": [
    "from PIL import Image\n",
    "import matplotlib.pyplot as plt\n",
    "import math"
   ]
  },
  {
   "cell_type": "code",
   "execution_count": 21,
   "metadata": {},
   "outputs": [],
   "source": [
    "#load data\n",
    "data = pd.read_csv(\"data/metadata/selection.csv\")"
   ]
  },
  {
   "cell_type": "code",
   "execution_count": 22,
   "metadata": {},
   "outputs": [
    {
     "name": "stdout",
     "output_type": "stream",
     "text": [
      "<class 'pandas.core.frame.DataFrame'>\n",
      "RangeIndex: 2528 entries, 0 to 2527\n",
      "Data columns (total 10 columns):\n",
      "Unnamed: 0                  2528 non-null int64\n",
      "ML Catalog Number           2528 non-null int64\n",
      "Scientific Name             2528 non-null object\n",
      "Date                        2528 non-null object\n",
      "Month                       2528 non-null int64\n",
      "Locality                    2528 non-null object\n",
      "Latitude                    2528 non-null float64\n",
      "Longitude                   2528 non-null float64\n",
      "Average Community Rating    2528 non-null float64\n",
      "storage                     2528 non-null object\n",
      "dtypes: float64(3), int64(3), object(4)\n",
      "memory usage: 197.6+ KB\n"
     ]
    }
   ],
   "source": [
    "data.info()"
   ]
  },
  {
   "cell_type": "code",
   "execution_count": 23,
   "metadata": {},
   "outputs": [],
   "source": [
    "#load altitude model\n",
    "alt = pd.read_csv(\"data/MNT25/DHM200.xyz\", header=None, sep=\" \", names=[\"E\", \"N\", \"altitude\"])"
   ]
  },
  {
   "cell_type": "code",
   "execution_count": 24,
   "metadata": {},
   "outputs": [
    {
     "data": {
      "text/plain": [
       "58    889.81\n",
       "Name: altitude, dtype: float64"
      ]
     },
     "execution_count": 24,
     "metadata": {},
     "output_type": "execute_result"
    }
   ],
   "source": [
    "#extract altitude of one observation\n",
    "extract_altitude_WGS84(alt, data[\"Latitude\"], data[\"Longitude\"])"
   ]
  },
  {
   "cell_type": "code",
   "execution_count": 25,
   "metadata": {},
   "outputs": [
    {
     "data": {
      "text/plain": [
       "Latitude     47.4547\n",
       "Longitude     9.4812\n",
       "Name: 0, dtype: object"
      ]
     },
     "execution_count": 25,
     "metadata": {},
     "output_type": "execute_result"
    }
   ],
   "source": [
    "#get the WGS84 coordinates of this observation\n",
    "data.loc[0,[\"Latitude\",\"Longitude\"]]"
   ]
  },
  {
   "cell_type": "code",
   "execution_count": 26,
   "metadata": {},
   "outputs": [],
   "source": [
    "#create a of the same length as the data\n",
    "altitude = pd.Series(range(len(data)))\n",
    "\n",
    "#for each observation, extract the altitude from the WGS84 coordinates and store it in altitude\n",
    "for i in tqdm(range(len(data))):\n",
    "    altitude[i] = extract_altitude_WGS84(alt, data.loc[i,\"Latitude\"], data.loc[i,\"Longitude\"])"
   ]
  },
  {
   "cell_type": "code",
   "execution_count": 27,
   "metadata": {},
   "outputs": [],
   "source": [
    "#define the Series altitute as a new variable of the metadata\n",
    "data[\"altitude\"] = altitude"
   ]
  },
  {
   "cell_type": "markdown",
   "metadata": {},
   "source": [
    "## Transform WGS84 coordinates of observations in LV03 coordinates"
   ]
  },
  {
   "cell_type": "code",
   "execution_count": 28,
   "metadata": {},
   "outputs": [],
   "source": [
    "#create Series of the length n observations\n",
    "LV03_E = pd.Series(range(len(data)))\n",
    "LV03_N = pd.Series(range(len(data)))\n",
    "\n",
    "#for the n observations\n",
    "for i in tqdm(range(len(data))):\n",
    "    LV03 = convert_WGS84_to_LV03(data.loc[i,\"Latitude\"],data.loc[i,\"Longitude\"]) #get the swiss coordinates of the i-th\n",
    "    LV03_E[i] = LV03[0] #store the E coordinate in LV03_E\n",
    "    LV03_N[i] = LV03[1] #store the N coordinate in LV03_N"
   ]
  },
  {
   "cell_type": "code",
   "execution_count": 29,
   "metadata": {},
   "outputs": [],
   "source": [
    "#add the Series as variables in the metadata dataframe\n",
    "data[\"LV03_E\"] = LV03_E\n",
    "data[\"LV03_N\"] = LV03_N"
   ]
  },
  {
   "cell_type": "code",
   "execution_count": 30,
   "metadata": {},
   "outputs": [
    {
     "data": {
      "text/html": [
       "<div>\n",
       "<style scoped>\n",
       "    .dataframe tbody tr th:only-of-type {\n",
       "        vertical-align: middle;\n",
       "    }\n",
       "\n",
       "    .dataframe tbody tr th {\n",
       "        vertical-align: top;\n",
       "    }\n",
       "\n",
       "    .dataframe thead th {\n",
       "        text-align: right;\n",
       "    }\n",
       "</style>\n",
       "<table border=\"1\" class=\"dataframe\">\n",
       "  <thead>\n",
       "    <tr style=\"text-align: right;\">\n",
       "      <th></th>\n",
       "      <th>Unnamed: 0</th>\n",
       "      <th>ML Catalog Number</th>\n",
       "      <th>Scientific Name</th>\n",
       "      <th>Date</th>\n",
       "      <th>Month</th>\n",
       "      <th>Locality</th>\n",
       "      <th>Latitude</th>\n",
       "      <th>Longitude</th>\n",
       "      <th>Average Community Rating</th>\n",
       "      <th>storage</th>\n",
       "      <th>altitude</th>\n",
       "      <th>LV03_E</th>\n",
       "      <th>LV03_N</th>\n",
       "    </tr>\n",
       "  </thead>\n",
       "  <tbody>\n",
       "    <tr>\n",
       "      <th>0</th>\n",
       "      <td>0</td>\n",
       "      <td>198885451</td>\n",
       "      <td>Aquila chrysaetos</td>\n",
       "      <td>2020-01-03</td>\n",
       "      <td>1</td>\n",
       "      <td>Grub/SG</td>\n",
       "      <td>47.4547</td>\n",
       "      <td>9.4812</td>\n",
       "      <td>0.0</td>\n",
       "      <td>data/images/aquila_chrysaetos/original/1988854...</td>\n",
       "      <td>715</td>\n",
       "      <td>754017</td>\n",
       "      <td>257995</td>\n",
       "    </tr>\n",
       "    <tr>\n",
       "      <th>1</th>\n",
       "      <td>1</td>\n",
       "      <td>198249561</td>\n",
       "      <td>Aquila chrysaetos</td>\n",
       "      <td>2016-09-10</td>\n",
       "      <td>9</td>\n",
       "      <td>Swiss National Park</td>\n",
       "      <td>46.6671</td>\n",
       "      <td>10.1934</td>\n",
       "      <td>0.0</td>\n",
       "      <td>data/images/aquila_chrysaetos/original/1982495...</td>\n",
       "      <td>1869</td>\n",
       "      <td>810775</td>\n",
       "      <td>172131</td>\n",
       "    </tr>\n",
       "    <tr>\n",
       "      <th>2</th>\n",
       "      <td>2</td>\n",
       "      <td>197139961</td>\n",
       "      <td>Aquila chrysaetos</td>\n",
       "      <td>2006-01-03</td>\n",
       "      <td>1</td>\n",
       "      <td>Pfynwald (zone générale)</td>\n",
       "      <td>46.3035</td>\n",
       "      <td>7.6199</td>\n",
       "      <td>4.0</td>\n",
       "      <td>data/images/aquila_chrysaetos/original/1971399...</td>\n",
       "      <td>657</td>\n",
       "      <td>613965</td>\n",
       "      <td>128026</td>\n",
       "    </tr>\n",
       "    <tr>\n",
       "      <th>3</th>\n",
       "      <td>3</td>\n",
       "      <td>197006711</td>\n",
       "      <td>Aquila chrysaetos</td>\n",
       "      <td>2020-01-03</td>\n",
       "      <td>1</td>\n",
       "      <td>Grub/SG</td>\n",
       "      <td>47.4505</td>\n",
       "      <td>9.4869</td>\n",
       "      <td>0.0</td>\n",
       "      <td>data/images/aquila_chrysaetos/original/1970067...</td>\n",
       "      <td>870</td>\n",
       "      <td>754459</td>\n",
       "      <td>257539</td>\n",
       "    </tr>\n",
       "    <tr>\n",
       "      <th>4</th>\n",
       "      <td>6</td>\n",
       "      <td>192237111</td>\n",
       "      <td>Aquila chrysaetos</td>\n",
       "      <td>2019-12-08</td>\n",
       "      <td>12</td>\n",
       "      <td>Zermatt--Stadt (City of Zermatt)</td>\n",
       "      <td>46.0215</td>\n",
       "      <td>7.7472</td>\n",
       "      <td>3.0</td>\n",
       "      <td>data/images/aquila_chrysaetos/original/1922371...</td>\n",
       "      <td>1609</td>\n",
       "      <td>623895</td>\n",
       "      <td>96708</td>\n",
       "    </tr>\n",
       "  </tbody>\n",
       "</table>\n",
       "</div>"
      ],
      "text/plain": [
       "   Unnamed: 0  ML Catalog Number    Scientific Name        Date  Month  \\\n",
       "0           0          198885451  Aquila chrysaetos  2020-01-03      1   \n",
       "1           1          198249561  Aquila chrysaetos  2016-09-10      9   \n",
       "2           2          197139961  Aquila chrysaetos  2006-01-03      1   \n",
       "3           3          197006711  Aquila chrysaetos  2020-01-03      1   \n",
       "4           6          192237111  Aquila chrysaetos  2019-12-08     12   \n",
       "\n",
       "                           Locality  Latitude  Longitude  \\\n",
       "0                           Grub/SG   47.4547     9.4812   \n",
       "1               Swiss National Park   46.6671    10.1934   \n",
       "2          Pfynwald (zone générale)   46.3035     7.6199   \n",
       "3                           Grub/SG   47.4505     9.4869   \n",
       "4  Zermatt--Stadt (City of Zermatt)   46.0215     7.7472   \n",
       "\n",
       "   Average Community Rating  \\\n",
       "0                       0.0   \n",
       "1                       0.0   \n",
       "2                       4.0   \n",
       "3                       0.0   \n",
       "4                       3.0   \n",
       "\n",
       "                                             storage  altitude  LV03_E  LV03_N  \n",
       "0  data/images/aquila_chrysaetos/original/1988854...       715  754017  257995  \n",
       "1  data/images/aquila_chrysaetos/original/1982495...      1869  810775  172131  \n",
       "2  data/images/aquila_chrysaetos/original/1971399...       657  613965  128026  \n",
       "3  data/images/aquila_chrysaetos/original/1970067...       870  754459  257539  \n",
       "4  data/images/aquila_chrysaetos/original/1922371...      1609  623895   96708  "
      ]
     },
     "execution_count": 30,
     "metadata": {},
     "output_type": "execute_result"
    }
   ],
   "source": [
    "data.head()"
   ]
  },
  {
   "cell_type": "code",
   "execution_count": 31,
   "metadata": {},
   "outputs": [],
   "source": [
    "#define new variable with path for the cropped images \n",
    "data[\"crop_storage\"] = data.storage.str.replace(\"original\",\"cropped\")"
   ]
  },
  {
   "cell_type": "code",
   "execution_count": 32,
   "metadata": {},
   "outputs": [],
   "source": [
    "#save metadata in a csv file\n",
    "data.to_csv(\"data/metadata/selection_alt.csv\",index=False)"
   ]
  }
 ],
 "metadata": {
  "kernelspec": {
   "display_name": "Python 3",
   "language": "python",
   "name": "python3"
  },
  "language_info": {
   "codemirror_mode": {
    "name": "ipython",
    "version": 3
   },
   "file_extension": ".py",
   "mimetype": "text/x-python",
   "name": "python",
   "nbconvert_exporter": "python",
   "pygments_lexer": "ipython3",
   "version": "3.6.9"
  }
 },
 "nbformat": 4,
 "nbformat_minor": 4
}
